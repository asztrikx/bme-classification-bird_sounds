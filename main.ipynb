{
 "cells": [
  {
   "cell_type": "code",
   "execution_count": null,
   "id": "690cc07b",
   "metadata": {},
   "outputs": [],
   "source": [
    "import os\n",
    "RUN_PLATFORM = os.getenv(\"RUN_PLATFORM\") or \"LOCAL\"\n",
    "if RUN_PLATFORM == \"LOCAL\":\n",
    "\t# Make sure that when not in docker, packages are installed\n",
    "\t!pip install -r requirements.txt\n",
    "\tdata_dir = \"data\"\n",
    "elif RUN_PLATFORM == \"KAGGLE\":\n",
    "\tdata_dir = \"\"\n",
    "metadata_path = os.path.join(data_dir, \"train_metadata_updated.csv\")\n",
    "audio_dir = os.path.join(data_dir, \"train_audio\")\n",
    "spectrogram_dir = os.path.join(data_dir, \"train_spectogram\")\n",
    "os.makedirs(spectrogram_dir, exist_ok=True)\n",
    "spectrogram_metadata_path = os.path.join(data_dir, \"train_spectrogram.csv\")"
   ]
  },
  {
   "cell_type": "code",
   "execution_count": null,
   "id": "initial_id",
   "metadata": {
    "collapsed": true
   },
   "outputs": [
    {
     "name": "stderr",
     "output_type": "stream",
     "text": [
      "wandb: Using wandb-core as the SDK backend. Please refer to https://wandb.me/wandb-core for more information.\n",
      "wandb: Currently logged in as: asztrikx (asztrikx-budapesti-m-szaki-s-gazdas-gtudom-nyi-egyetem). Use `wandb login --relogin` to force relogin\n",
      "d:\\File\\Study\\BME\\Msc\\Haladó adatelemzés laboratórium\\nhf\\.venv\\Lib\\site-packages\\pydub\\utils.py:170: RuntimeWarning: Couldn't find ffmpeg or avconv - defaulting to ffmpeg, but may not work\n",
      "  warn(\"Couldn't find ffmpeg or avconv - defaulting to ffmpeg, but may not work\", RuntimeWarning)\n"
     ]
    }
   ],
   "source": [
    "import matplotlib.pyplot as plt\n",
    "import matplotlib.image as mpimg\n",
    "%matplotlib inline\n",
    "\t# avoid rare bugs when image won't plot\n",
    "import numpy as np\n",
    "import pandas as pd\n",
    "import seaborn as sns\n",
    "import tensorflow as tf\n",
    "\n",
    "import pytorch_lightning as pl\n",
    "from pytorch_lightning import Trainer\n",
    "from pytorch_lightning.loggers import WandbLogger\n",
    "\n",
    "# loads .env file into runtime env vars\n",
    "import os.path\n",
    "if not os.path.isfile(\".env\"):\n",
    "\traise Exception(\".env must be created by copying .env.template and filling out the values\")\n",
    "from dotenv import load_dotenv\n",
    "load_dotenv()\n",
    "\n",
    "import torch\n",
    "from torch import nn\n",
    "from torch.nn import functional as F\n",
    "from torch.utils.data import random_split, DataLoader, Dataset\n",
    "from torchvision import transforms\n",
    "import torchmetrics\n",
    "\n",
    "# make it not fail in terminal execution\n",
    "from IPython.display import display\n",
    "from IPython.display import Audio\n",
    "\n",
    "from types import SimpleNamespace\n",
    "\t# make dict to class\n",
    "import pathlib\n",
    "import platform\n",
    "\n",
    "from sklearn.model_selection import train_test_split\n",
    "from sklearn.preprocessing import LabelEncoder\n",
    "from tqdm import tqdm\n",
    "\n",
    "# Audio process\n",
    "import librosa\n",
    "import librosa.display\n",
    "import cv2\n",
    "import PIL\n",
    "\n",
    "# Threading\n",
    "from concurrent.futures import ThreadPoolExecutor\n",
    "import concurrent.futures\n",
    "\n",
    "# Wandb\n",
    "import wandb\n",
    "wandb.login() \n",
    "PROJECT_NAME = \"bme-classification-bird_sounds\""
   ]
  },
  {
   "cell_type": "markdown",
   "id": "1af87a0f",
   "metadata": {},
   "source": [
    "## Hyperparameter configuration, set random states"
   ]
  },
  {
   "cell_type": "code",
   "execution_count": 9,
   "id": "eb18f175",
   "metadata": {},
   "outputs": [],
   "source": [
    "# hyperparameters\n",
    "random_state = 42 # random state\n",
    "test_val_size = 0.2 # size of test and validation together to the whole dataset\n",
    "test_size = 0.5 # size of test to test and validation together\n",
    "num_workers = 2 # number of workers for data loading\n",
    "batch_size = 128\n",
    "\n",
    "eval_only = True\n",
    "is_score_on = True\n",
    "visualize_and_analyze = True\n",
    "\n",
    "# Faster exec. on newer GPUs\n",
    "torch.set_float32_matmul_precision('medium')\n",
    "\n",
    "# Fix random early on\n",
    "np.random.seed(random_state)\n",
    "torch.manual_seed(random_state)\n",
    "torch.cuda.manual_seed_all(random_state);"
   ]
  },
  {
   "cell_type": "markdown",
   "id": "97fa59aa",
   "metadata": {},
   "source": [
    "## Metadata csv"
   ]
  },
  {
   "cell_type": "code",
   "execution_count": null,
   "id": "aab67c3b",
   "metadata": {},
   "outputs": [],
   "source": [
    "metadata = pd.read_csv(metadata_path)\n",
    "metadata = metadata[metadata[\"delete\"] == False].reset_index(drop=True)"
   ]
  },
  {
   "cell_type": "markdown",
   "metadata": {},
   "source": [
    "## Transform data (Cached)"
   ]
  },
  {
   "cell_type": "code",
   "execution_count": null,
   "id": "052eea01",
   "metadata": {},
   "outputs": [
    {
     "data": {
      "application/vnd.jupyter.widget-view+json": {
       "model_id": "4b7afafd65c64948bd56d8884bf167f2",
       "version_major": 2,
       "version_minor": 0
      },
      "text/plain": [
       "  0%|          | 0/100 [00:00<?, ?it/s]"
      ]
     },
     "metadata": {},
     "output_type": "display_data"
    }
   ],
   "source": [
    "def process_sound_file(file_path, save_dir, segment_length=3, sr=22050, n_mels=128, n_fft=2048, hop_length=512):\n",
    "\ty, sr = librosa.load(file_path, sr=sr)\n",
    "\n",
    "\tsegment_samples = sr * segment_length\n",
    "\tnum_segments = int(np.ceil(len(y) / segment_samples))\n",
    "\n",
    "\tspectrograms = []\n",
    "\tfor i in range(num_segments):\n",
    "\t\tstart = i * segment_samples\n",
    "\t\tend = start + segment_samples\n",
    "\t\tsegment = y[start:end]\n",
    "\n",
    "\t\t#TODO how should padding work\n",
    "\t\tif len(segment) < segment_samples:\n",
    "\t\t\tif num_segments == 1:\n",
    "\t\t\t\tsegment = np.pad(segment, (0, segment_samples - len(segment)), mode='wrap')\n",
    "\t\t\telse:\n",
    "\t\t\t\tmissing_length = segment_samples - len(segment)\n",
    "\t\t\t\tsegment = np.concatenate((segment, y[:missing_length]))\n",
    "\t\tmel_spec = librosa.feature.melspectrogram(y=segment, sr=sr, n_mels=n_mels, n_fft=n_fft, hop_length=hop_length)\n",
    "\t\tmel_spec_db = librosa.power_to_db(mel_spec, ref=np.max)\n",
    "\n",
    "\t\tmel_spec_resized = cv2.resize(mel_spec_db, (128, 128)) # TODO n_mels?\n",
    "\n",
    "\t\timage_filename = f\"{os.path.basename(file_path).replace('.ogg', '')}_seg{i}.png\"\n",
    "\t\timage_path = os.path.join(save_dir, image_filename)\n",
    "\t\tplt.imsave(image_path, mel_spec_resized, cmap='inferno')\n",
    "\n",
    "\t\tspectrograms.append(image_path)\n",
    "\n",
    "\treturn spectrograms\n",
    "\n",
    "if not os.path.isfile(spectrogram_metadata_path):\n",
    "\tdata = []\n",
    "\tmetadata = metadata.iloc[0:2] # TODO avoid ssd murder until figured out\n",
    "\n",
    "\t# Create subdirs outside of loop\n",
    "\tfor species in metadata[\"primary_label\"].unique():\n",
    "\t\tos.makedirs(os.path.join(spectrogram_dir, species), exist_ok=True)\n",
    "\n",
    "\twith tqdm(total=len(metadata)) as pbar:\n",
    "\t\twith ThreadPoolExecutor() as executor:\n",
    "\t\t\tdef get_spectrogram(filename):\n",
    "\t\t\t\taudio_path = os.path.join(audio_dir, filename)\n",
    "\t\t\t\tspecies = filename.split('/')[0]\n",
    "\n",
    "\t\t\t\tout_path = os.path.join(spectrogram_dir, species)\n",
    "\t\t\t\taudio_spectrograms = process_sound_file(audio_path, out_path, sr=32000)\n",
    "\n",
    "\t\t\t\treturn audio_spectrograms\n",
    "\n",
    "\t\t\tfutures = {\n",
    "\t\t\t\texecutor.submit(get_spectrogram, filename): filename\n",
    "\t\t\t\tfor filename in metadata[\"filename\"]\n",
    "\t\t\t}\n",
    "\t\t\tfor future in concurrent.futures.as_completed(futures):\n",
    "\t\t\t\tfilename = futures[future]\n",
    "\t\t\t\taudio_spectrograms = future.result()\n",
    "\n",
    "\t\t\t\t# Get other data from metadata: do not do this in Dataset for caching\n",
    "\t\t\t\trow = metadata[metadata[\"filename\"] == filename]\n",
    "\t\t\t\tlatitude = row[\"latitude\"].values[0]\n",
    "\t\t\t\tlongitude = row[\"longitude\"].values[0]\n",
    "\t\t\t\tauthor = row[\"author\"].values[0]\n",
    "\n",
    "\t\t\t\tlabel = species\n",
    "\n",
    "\t\t\t\tfor audio_spectrogram in audio_spectrograms:\n",
    "\t\t\t\t\taudio_spectrogram = os.path.relpath(audio_spectrogram, spectrogram_dir)\n",
    "\t\t\t\t\tdata.append((filename, audio_spectrogram, label, author, latitude, longitude))\n",
    "\t\t\t\tpbar.update(1)\n",
    "\n",
    "\tspectrogram_df = pd.DataFrame(data, columns=[\"audio_path\", \"spectrogram_path\", \"label\", \"author\", \"latitude\", \"longitude\"])\n",
    "\tspectrogram_df.to_csv(spectrogram_metadata_path, index=False)\n",
    "else:\n",
    "\tspectrogram_df = pd.read_csv(spectrogram_metadata_path)"
   ]
  },
  {
   "cell_type": "markdown",
   "id": "f8e99fe5",
   "metadata": {},
   "source": [
    "## Visualize 1 audio file's spectrograms"
   ]
  },
  {
   "cell_type": "code",
   "execution_count": 52,
   "id": "fdcb752d",
   "metadata": {},
   "outputs": [
    {
     "data": {
      "image/png": "[encoded data removed]",
      "text/plain": [
       "<Figure size 640x480 with 6 Axes>"
      ]
     },
     "metadata": {},
     "output_type": "display_data"
    }
   ],
   "source": [
    "first_spectrograms = spectrogram_df[spectrogram_df[\"audio_path\"] == spectrogram_df.iloc[0][\"audio_path\"]]\n",
    "first_spectrograms_paths = first_spectrograms[\"spectrogram_path\"].sort_values(ascending=True)\n",
    "\n",
    "fig, ax = plt.subplots(1, len(first_spectrograms_paths))\n",
    "for i, first_spectrograms_path in enumerate(first_spectrograms_paths):\n",
    "\tfullpath = os.path.join(spectrogram_dir, first_spectrograms_path)\n",
    "\n",
    "\tax[i].imshow(mpimg.imread(fullpath))\n",
    "\tax[i].set_xticks([])\n",
    "\tax[i].set_yticks([])"
   ]
  },
  {
   "cell_type": "code",
   "execution_count": 29,
   "id": "6f7c67e2",
   "metadata": {},
   "outputs": [
    {
     "data": {
      "text/plain": [
       "[<matplotlib.lines.Line2D at 0x12450649d30>]"
      ]
     },
     "execution_count": 29,
     "metadata": {},
     "output_type": "execute_result"
    },
    {
     "data": {
      "image/png": "[encoded data removed]",
      "text/plain": [
       "<Figure size 640x480 with 1 Axes>"
      ]
     },
     "metadata": {},
     "output_type": "display_data"
    }
   ],
   "source": [
    "from pydub import AudioSegment\n",
    "\n",
    "audio = AudioSegment.from_ogg(os.path.join(audio_dir, spectrogram_df.iloc[0][\"audio_path\"]))\n",
    "samples = np.array(audio.get_array_of_samples())\n",
    "if audio.channels == 2:\n",
    "    samples = samples.reshape((-1, 2))\n",
    "time_axis = np.linspace(0, len(audio) / 1000, num=len(samples))\n",
    "plt.xticks([])\n",
    "plt.yticks([])\n",
    "plt.plot(time_axis, samples)"
   ]
  },
  {
   "cell_type": "markdown",
   "id": "af5e2e3d",
   "metadata": {},
   "source": [
    "## Custom Dataset"
   ]
  },
  {
   "cell_type": "code",
   "execution_count": null,
   "id": "d3ebda86",
   "metadata": {},
   "outputs": [],
   "source": [
    "# Convert string labels to integer label IDs with LabelEncoder\n",
    "label_encoder = LabelEncoder()\n",
    "df = pd.read_csv(spectrogram_metadata_path)\n",
    "df[\"label_id\"] = label_encoder.fit_transform(df[\"label\"])\n",
    "df.to_csv(spectrogram_metadata_path)"
   ]
  },
  {
   "cell_type": "code",
   "execution_count": null,
   "id": "2a48fa54",
   "metadata": {},
   "outputs": [],
   "source": [
    "class BirdsDataset(Dataset):\n",
    "\t# override\n",
    "\tdef __init__(self, csv, transform = None, target_transform = None):\n",
    "\t\tself.df = pd.read_csv(csv)\n",
    "\t\tself.transform = transform\n",
    "\t\tself.target_transform = target_transform\n",
    "\n",
    "\t# override\n",
    "\tdef __len__(self):\n",
    "\t\treturn len(self.df)\n",
    "\n",
    "\t# override\n",
    "\tdef __getitem__(self, index):\n",
    "\t\timage_path = self.df.iloc[index][\"spectrogram_path\"]\n",
    "\t\taudio = PIL.Image.open(image_path).convert('RGB')\n",
    "\t\taudio = transforms.functional.to_tensor(audio)\n",
    "\n",
    "\t\tlabel = {\n",
    "\t\t\t\"label\": self.df.iloc[index][\"label\"],\n",
    "\t\t\t\"label_id\": self.df.iloc[index][\"label_id\"],\n",
    "\t\t\t\"latitude\": self.df.iloc[index][\"latitude\"],\n",
    "\t\t\t\"longitude\": self.df.iloc[index][\"longitude\"],\n",
    "\t\t\t\"author\": self.df.iloc[index][\"author\"],\n",
    "\t\t}\n",
    "\t\t\n",
    "\t\tif self.transform:\n",
    "\t\t\taudio = self.transform(audio).to(torch.float32)\n",
    "\t\tif self.target_transform:\n",
    "\t\t\tlabel = self.target_transform(label)\n",
    "\t\treturn audio, label"
   ]
  },
  {
   "cell_type": "markdown",
   "id": "12492eba",
   "metadata": {},
   "source": [
    "## Data module"
   ]
  },
  {
   "cell_type": "code",
   "execution_count": null,
   "id": "94538e9a",
   "metadata": {},
   "outputs": [],
   "source": [
    "class BirdsDataModule(pl.LightningDataModule):\n",
    "\tdef __init__(self, spectrogram_metadata_path, batch_size, base_transform):\n",
    "\t\tsuper().__init__()\n",
    "\t\tself.batch_size = batch_size\n",
    "\t\tself.base_transform = transforms.Compose([\n",
    "\t\t\tbase_transform\n",
    "\t\t])\n",
    "\n",
    "\t\tself.dataset_notransform = BirdsDataset(spectrogram_metadata_path, transform = None)\n",
    "\t\tself.dataset = BirdsDataset(spectrogram_metadata_path, transform = self.base_transform)\n",
    "\t\tself.setup()\n",
    "\n",
    "\t# override\n",
    "\tdef setup(self, stage=None):\n",
    "\t\ttrain, test_val = train_test_split(self.dataset, test_size=test_val_size, random_state=random_state)\n",
    "\t\ttest, val = train_test_split(test_val, test_size=test_size, random_state=random_state)\n",
    "\t\tself.train_dataset = train\n",
    "\t\tself.val_dataset = val\n",
    "\t\tself.test_dataset = test\n",
    "\n",
    "\t# override\n",
    "\tdef train_dataloader(self):\n",
    "\t\treturn torch.utils.data.DataLoader(\n",
    "\t\t\tself.train_dataset,\n",
    "\t\t\tbatch_size=self.batch_size,\n",
    "\t\t\tnum_workers=num_workers,\n",
    "\t\t\tpin_memory=True,\n",
    "\t\t\tdrop_last=True,\n",
    "\t\t\tshuffle=False,\n",
    "\t\t\tpersistent_workers=True\n",
    "\t\t\t\t# avoid recreating after every fast epoch\n",
    "\t\t)\n",
    "\n",
    "\t# override\n",
    "\tdef val_dataloader(self):\n",
    "\t\treturn torch.utils.data.DataLoader(\n",
    "\t\t\tself.val_dataset,\n",
    "\t\t\tbatch_size=self.batch_size,\n",
    "\t\t\tnum_workers=num_workers,\n",
    "\t\t\tpin_memory=True,\n",
    "\t\t\tdrop_last=True,\n",
    "\t\t\tshuffle=False,\n",
    "\t\t\tpersistent_workers=True\n",
    "\t\t)\n",
    "\n",
    "\t# override\n",
    "\tdef test_dataloader(self):\n",
    "\t\treturn DataLoader(\n",
    "\t\t\tself.test_dataset,\n",
    "\t\t\tbatch_size=self.batch_size,\n",
    "\t\t\tnum_workers=num_workers,\n",
    "\t\t\tpin_memory=True,\n",
    "\t\t\tdrop_last=True,\n",
    "\t\t\tshuffle=False,\n",
    "\t\t\tpersistent_workers=True\n",
    "\t\t)"
   ]
  },
  {
   "cell_type": "markdown",
   "id": "5e2a6d30",
   "metadata": {},
   "source": [
    "## Data visualization"
   ]
  },
  {
   "cell_type": "code",
   "execution_count": null,
   "id": "df362e59",
   "metadata": {},
   "outputs": [],
   "source": [
    "# TODO: should this stay here or 'data_exploration.ipynb' covers this?"
   ]
  },
  {
   "cell_type": "markdown",
   "id": "70f962df",
   "metadata": {},
   "source": [
    "## Data analysis"
   ]
  },
  {
   "cell_type": "code",
   "execution_count": null,
   "id": "07ecb0d2",
   "metadata": {},
   "outputs": [],
   "source": [
    "# TODO: should this stay here or 'data_exploration.ipynb' covers this?"
   ]
  },
  {
   "cell_type": "markdown",
   "id": "951ecf12",
   "metadata": {},
   "source": [
    "## Metrics"
   ]
  },
  {
   "cell_type": "code",
   "execution_count": 4,
   "id": "3992592d",
   "metadata": {},
   "outputs": [],
   "source": [
    "# TODO: what should go here?"
   ]
  },
  {
   "cell_type": "markdown",
   "id": "35b307ad",
   "metadata": {},
   "source": [
    "## Baseline"
   ]
  },
  {
   "cell_type": "code",
   "execution_count": 1,
   "id": "225dc08a",
   "metadata": {},
   "outputs": [],
   "source": [
    "# TODO: based on the model defined below"
   ]
  },
  {
   "cell_type": "markdown",
   "id": "f8ad364a",
   "metadata": {},
   "source": [
    "## Model"
   ]
  },
  {
   "cell_type": "code",
   "execution_count": null,
   "id": "f1f305f8",
   "metadata": {},
   "outputs": [],
   "source": [
    "random_state = 42\n",
    "val_size = 0.1\n",
    "test_size = 0.2\n",
    "epochs = 20\n",
    "batch_size = 32  # maybe up to: 128\n",
    "\n",
    "num_classes = pd.read_csv(\"data/train_metadata.csv\")[\"primary_label\"].nunique()\n",
    "device = 'cuda' if torch.cuda.is_available() else 'cpu'"
   ]
  },
  {
   "cell_type": "markdown",
   "id": "405b9918",
   "metadata": {},
   "source": [
    "### Define model"
   ]
  },
  {
   "cell_type": "code",
   "execution_count": null,
   "id": "057ff853",
   "metadata": {},
   "outputs": [],
   "source": [
    "class BirdSoundsNet(pl.LightningModule):\n",
    "    def __init__(self, base_model, head_model, num_classes, learning_rate=1e-3, weight_decay=1e-4, freeze_base_model=True):\n",
    "        super().__init__()\n",
    "        self.base_model = base_model\n",
    "        self.freeze_base_model = freeze_base_model\n",
    "\n",
    "        # Freeze base model\n",
    "        if self.freeze_base_model:\n",
    "            for param in self.base_model.parameters():\n",
    "                param.requires_grad = False\n",
    "        self.base_model.eval()\n",
    "\n",
    "        # Define full model\n",
    "        self.head_model = head_model\n",
    "        self.model = nn.Sequential(self.base_model, self.head_model)\n",
    "\n",
    "        self.accuracy = torchmetrics.AUROC(task=\"multiclass\", num_classes=num_classes)\n",
    "\n",
    "        self.learning_rate = learning_rate\n",
    "        self.weight_decay = weight_decay\n",
    "\n",
    "    def forward(self, x):\n",
    "        return self.model(x)\n",
    "\n",
    "    def training_step(self, batch, batch_idx):\n",
    "        pred_labels = self(batch[0])\n",
    "\n",
    "        loss = F.cross_entropy(pred_labels, batch[1][\"label_id\"])\n",
    "        accuracy = self.accuracy(pred_labels, batch[1][\"label_id\"])\n",
    "\n",
    "        self.log(\"train_loss\", loss, on_epoch=True)\n",
    "        self.log(\"train_auc\", accuracy, on_epoch=True)\n",
    "        return loss\n",
    "\n",
    "    def validation_step(self, batch, batch_idx):\n",
    "        pred_labels = self(batch[0])\n",
    "\n",
    "        loss = F.cross_entropy(pred_labels, batch[1][\"label_id\"])\n",
    "        accuracy = self.accuracy(pred_labels, batch[1][\"label_id\"])\n",
    "\n",
    "        self.log(\"val_loss\", loss, prog_bar=True)\n",
    "        self.log(\"val_auc\", accuracy, prog_bar=True)\n",
    "        return loss\n",
    "\n",
    "    def test_step(self, batch, batch_idx):\n",
    "        images, labels = batch\n",
    "        pred_labels = self(images)\n",
    "\n",
    "        loss = F.cross_entropy(pred_labels, labels)\n",
    "        accuracy = self.accuracy(pred_labels, labels)\n",
    "\n",
    "        self.log(\"test_loss\", loss)\n",
    "        self.log(\"test_acc\", accuracy)\n",
    "        return loss\n",
    "\n",
    "    def configure_optimizers(self):\n",
    "        return torch.optim.Adam(self.parameters(), lr=self.learning_rate, weight_decay=self.weight_decay)"
   ]
  },
  {
   "cell_type": "code",
   "execution_count": null,
   "id": "5a142e7f",
   "metadata": {},
   "outputs": [],
   "source": [
    "from torchvision.models import (\n",
    "    resnet50, \n",
    "    ResNet50_Weights, \n",
    "    mobilenet_v3_large,\n",
    "    MobileNet_V3_Large_Weights,\n",
    "    efficientnet_b1, \n",
    "    EfficientNet_B1_Weights\n",
    ")\n",
    "\n",
    "def train_model(config=None):\n",
    "    if config is None:\n",
    "        config = {\n",
    "            \"learning_rate\": 1e-3,\n",
    "            \"weight_decay\": 1e-4,\n",
    "            \"base_model\": \"mobilenet_v3_large\",\n",
    "            \"freeze_base_model\": True,\n",
    "            \"dropout\": 0.2,\n",
    "            \"hidden_layers\": 2,\n",
    "        }\n",
    "\n",
    "    with wandb.init(config=config):\n",
    "        config = wandb.config\n",
    "        wandb_logger = WandbLogger(log_model=True)\n",
    "        wandb_logger.log_hyperparams(config)\n",
    "        print(f\"\\nConfig to be used: {config}\\n\")\n",
    "\n",
    "        # Define base model according to config\n",
    "        base_model_name = config[\"base_model\"]\n",
    "        if base_model_name == \"resnet50\":\n",
    "            base_model = resnet50(weights=ResNet50_Weights.IMAGENET1K_V1)\n",
    "            preprocess = ResNet50_Weights.IMAGENET1K_V1.transforms()\n",
    "        elif base_model_name == \"mobilenet_v3_large\":\n",
    "            base_model = mobilenet_v3_large(weights=MobileNet_V3_Large_Weights.IMAGENET1K_V1)\n",
    "            preprocess = MobileNet_V3_Large_Weights.IMAGENET1K_V1.transforms()\n",
    "        elif base_model_name == \"efficientnet_b1\":\n",
    "            base_model = efficientnet_b1(weights=EfficientNet_B1_Weights.IMAGENET1K_V1)\n",
    "            preprocess = EfficientNet_B1_Weights.IMAGENET1K_V1.transforms()\n",
    "        else:\n",
    "            raise ValueError(f\"Unknown base model: {base_model_name}\")\n",
    "\n",
    "        # Load spectrogram metadata\n",
    "        birds_dm = BirdsDataModule(spectrogram_metadata_path, batch_size, preprocess)\n",
    "\n",
    "        # Define head model according to config\n",
    "        head_model = nn.Sequential()\n",
    "        base_model_out_size = base_model.fc.out_features if base_model_name == \"resnet50\" else base_model.classifier[-1].out_features\n",
    "\n",
    "        # Add connect layer to head model\n",
    "        current_hidden_size = 512\n",
    "        dropout = config[\"dropout\"]\n",
    "        head_model.add_module(f\"layer_connect\", nn.Linear(base_model_out_size, current_hidden_size))\n",
    "        head_model.add_module(f\"relu_connect\", nn.ReLU())\n",
    "        head_model.add_module(f\"dropout_connect\", nn.Dropout(dropout))\n",
    "\n",
    "        # Add hidden layers to head model\n",
    "        for layer in range(config[\"hidden_layers\"]):\n",
    "            head_model.add_module(f\"hidden_layer_{layer}\", nn.Linear(current_hidden_size, current_hidden_size // 2))\n",
    "            current_hidden_size = current_hidden_size // 2\n",
    "            head_model.add_module(f\"hidden_relu_{layer}\", nn.ReLU())\n",
    "            head_model.add_module(f\"hidden_dropout_{layer}\", nn.Dropout(dropout))\n",
    "\n",
    "        # Add final layer to head model\n",
    "        head_model.add_module(f\"layer_final\", nn.Linear(current_hidden_size, num_classes))\n",
    "\n",
    "        # Instantiate model\n",
    "        model = BirdSoundsNet(\n",
    "            base_model=base_model,\n",
    "            head_model=head_model,\n",
    "            num_classes=num_classes,\n",
    "            learning_rate=config[\"learning_rate\"],\n",
    "            weight_decay=config[\"weight_decay\"],\n",
    "            freeze_base_model=config[\"freeze_base_model\"],\n",
    "        )\n",
    "        model = model.to(device)\n",
    "\n",
    "        # Register checkpointing and early stopping callbacks\n",
    "        checkpoint_callback = pl.callbacks.ModelCheckpoint(save_top_k=1)\n",
    "        early_stop_callback = pl.callbacks.EarlyStopping(\n",
    "            monitor=\"train_auc\", # TODO: should be 'val_auc' in the future\n",
    "            patience=3, \n",
    "            verbose=False, \n",
    "            mode=\"max\",\n",
    "        ) \n",
    "\n",
    "        trainer = pl.Trainer(\n",
    "            max_epochs=epochs,\n",
    "            callbacks=[checkpoint_callback, early_stop_callback],\n",
    "            logger = wandb_logger,\n",
    "            log_every_n_steps=10,\n",
    "            accelerator=device,\n",
    "            devices=1,\n",
    "        )\n",
    "\n",
    "        # Train the model\n",
    "        trainer.fit(model, datamodule=birds_dm)\n",
    "        wandb.finish()\n",
    "\n",
    "        return model, trainer, birds_dm"
   ]
  },
  {
   "cell_type": "markdown",
   "id": "fed70502",
   "metadata": {},
   "source": [
    "### Train without `Wandb` sweeps"
   ]
  },
  {
   "cell_type": "code",
   "execution_count": null,
   "id": "3b9f35d3",
   "metadata": {},
   "outputs": [],
   "source": [
    "model, trainer, birds_dm = train_model()"
   ]
  },
  {
   "cell_type": "code",
   "execution_count": null,
   "id": "d25e7eaf",
   "metadata": {},
   "outputs": [],
   "source": [
    "trainer.test(model, datamodule=birds_dm)"
   ]
  },
  {
   "cell_type": "markdown",
   "id": "faab4bb8",
   "metadata": {},
   "source": [
    "### Train model with `Wandb` sweeps for optimalization"
   ]
  },
  {
   "cell_type": "code",
   "execution_count": null,
   "id": "589d0c78",
   "metadata": {},
   "outputs": [],
   "source": [
    "sweep_config = {\n",
    "    'method': 'random',  # TODO: should try 'bayesian' or 'grid'\n",
    "    'metric': {\n",
    "        'name': 'train_auc',  # TODO: should be 'val_auc' in the future\n",
    "        'goal': 'maximize'\n",
    "    },\n",
    "    'parameters': {\n",
    "        'hidden_layers': {\n",
    "            'values': [1, 2, 3]\n",
    "        },\n",
    "        'dropout': {\n",
    "            'values': [0.1, 0.3, 0.5]\n",
    "        },\n",
    "        'learning_rate': {\n",
    "            'values': [1e-3, 1e-4]\n",
    "        },\n",
    "        'weight_decay': {\n",
    "            'values': [0, 1e-4, 1e-5]\n",
    "        },\n",
    "        'freeze_base_model': {\n",
    "            'values': [True]\n",
    "        },\n",
    "        'base_model': {\n",
    "            'values': ['resnet50', 'mobilenet_v3_large', 'efficientnet_b1']\n",
    "        }\n",
    "    }\n",
    "}\n",
    "\n",
    "sweep_id = wandb.sweep(sweep_config, project=PROJECT_NAME)"
   ]
  },
  {
   "cell_type": "code",
   "execution_count": null,
   "id": "5625b578",
   "metadata": {},
   "outputs": [],
   "source": [
    "wandb.agent(sweep_id, train_model, count=10)"
   ]
  }
 ],
 "metadata": {
  "kernelspec": {
   "display_name": "data-lab-env",
   "language": "python",
   "name": "python3"
  },
  "language_info": {
   "codemirror_mode": {
    "name": "ipython",
    "version": 3
   },
   "file_extension": ".py",
   "mimetype": "text/x-python",
   "name": "python",
   "nbconvert_exporter": "python",
   "pygments_lexer": "ipython3",
   "version": "3.12.9"
  }
 },
 "nbformat": 4,
 "nbformat_minor": 5
}
