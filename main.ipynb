{
 "cells": [
  {
   "cell_type": "code",
   "execution_count": null,
   "id": "690cc07b",
   "metadata": {},
   "outputs": [],
   "source": [
    "# Make sure that when no in docker, packages are installed\n",
    "import os\n",
    "RUN_PLATFORM = os.getenv(\"RUN_PLATFORM\")\n",
    "if RUN_PLATFORM == \"LOCAL\":\n",
    "\t!pip install -r requirements.txt\n",
    "\tdata_path = \"./data/\"\n",
    "elif RUN_PLATFORM == \"KAGGLE\":\n",
    "\tdata_path = \"\"\n",
    "metadata_path = os.path.join(self.auddata_pathio_dir, \"train_metadata.csv\")\n",
    "audio_dir = os.path.join(self.auddata_pathio_dir, \"train_audio\")"
   ]
  },
  {
   "cell_type": "code",
   "execution_count": 2,
   "id": "initial_id",
   "metadata": {
    "collapsed": true
   },
   "outputs": [
    {
     "name": "stderr",
     "output_type": "stream",
     "text": [
      "wandb: Using wandb-core as the SDK backend. Please refer to https://wandb.me/wandb-core for more information.\n",
      "wandb: Currently logged in as: asztrikx (asztrikx-budapesti-m-szaki-s-gazdas-gtudom-nyi-egyetem). Use `wandb login --relogin` to force relogin\n",
      "wandb: WARNING If you're specifying your api key in code, ensure this code is not shared publicly.\n",
      "wandb: WARNING Consider setting the WANDB_API_KEY environment variable, or running `wandb login` from the command line.\n",
      "wandb: Appending key for api.wandb.ai to your netrc file: C:\\Users\\asztr\\_netrc\n"
     ]
    }
   ],
   "source": [
    "import matplotlib.pyplot as plt\n",
    "%matplotlib inline\n",
    "\t# avoid rare bugs when image won't plot\n",
    "import numpy as np\n",
    "import pandas as pd\n",
    "import seaborn as sns\n",
    "import tensorflow as tf\n",
    "\n",
    "import pytorch_lightning as pl\n",
    "from pytorch_lightning import Trainer\n",
    "\n",
    "# loads .env file into runtime env vars\n",
    "import os.path\n",
    "if not os.path.isfile(\".env\"):\n",
    "\traise Exception(\".env must be created by copying .env.template and filling out the values\")\n",
    "from dotenv import load_dotenv\n",
    "load_dotenv()\n",
    "\n",
    "import wandb\n",
    "wandb_api_key = os.getenv(\"WANDB_API_KEY\")\n",
    "wandb_username = os.getenv(\"WANDB_USERNAME\")\n",
    "#wandb.login(key=wandb_api_key) # TODO remove comment when needed\n",
    "\n",
    "import torch\n",
    "from torch import nn\n",
    "from torch.nn import functional as F\n",
    "from torch.utils.data import random_split, DataLoader\n",
    "from torchvision import transforms\n",
    "\n",
    "# make it not fail in terminal execution\n",
    "from IPython.display import display\n",
    "from IPython.display import Audio\n",
    "\n",
    "from types import SimpleNamespace\n",
    "\t# make dict to class\n",
    "import pathlib\n",
    "import platform\n",
    "\n",
    "from sklearn.model_selection import train_test_split"
   ]
  },
  {
   "cell_type": "markdown",
   "id": "1af87a0f",
   "metadata": {},
   "source": [
    "## Hyperparameter configuration, set random states"
   ]
  },
  {
   "cell_type": "code",
   "execution_count": null,
   "id": "eb18f175",
   "metadata": {},
   "outputs": [],
   "source": [
    "# hyperparameters\n",
    "random_state = 42 # random state\n",
    "test_val_size = 0.2 # size of test and validation together to the whole dataset\n",
    "test_size = 0.5 # size of test to test and validation together\n",
    "num_workers = 2 # number of workers for data loading\n",
    "batch_size = 128\n",
    "\n",
    "eval_only = True\n",
    "is_score_on = True\n",
    "visualize_and_analyze = True\n",
    "\n",
    "# Faster exec. on newer GPUs\n",
    "torch.set_float32_matmul_precision('medium')\n",
    "\n",
    "# Fix random early on\n",
    "np.random.seed(random_state)\n",
    "torch.manual_seed(random_state)\n",
    "torch.cuda.manual_seed_all(random_state);"
   ]
  },
  {
   "cell_type": "markdown",
   "id": "af5e2e3d",
   "metadata": {},
   "source": [
    "## Custom Dataset"
   ]
  },
  {
   "cell_type": "code",
   "execution_count": null,
   "id": "2a48fa54",
   "metadata": {},
   "outputs": [],
   "source": [
    "class BirdsDataset(Dataset):\n",
    "\t# override\n",
    "\tdef __init__(self, metadata_csv, audio_dir, transform = None, target_transform = None):\n",
    "\t\tself.df = pd.read_csv(metadata_csv)\n",
    "\t\tself.audio_dir = audio_dir\n",
    "\t\tself.transform = transform\n",
    "\t\tself.target_transform = target_transform\n",
    "\n",
    "\t# override\n",
    "\tdef __len__(self):\n",
    "\t\treturn len(self.df)\n",
    "\n",
    "\t# override\n",
    "\tdef __getitem__(self, index):\n",
    "\t\taudio_path = os.path.join(self.audio_dir, self.df.iloc[index][\"filename\"])\n",
    "\t\taudio = read_image(audio_path) # TODO find library to load 32kHZ ogg audio\n",
    "\n",
    "\t\tlabel = {\n",
    "\t\t\t\"label\": self.df.iloc[index][\"primary_label\"],\n",
    "\t\t\t\"latitude\": self.df.iloc[index][\"latitude\"],\n",
    "\t\t\t\"longitude\": self.df.iloc[index][\"longitude\"],\n",
    "\t\t\t\"author\": self.df.iloc[index][\"author\"],\n",
    "\t\t}\n",
    "\t\t\n",
    "\t\tif self.transform:\n",
    "\t\t\taudio = self.transform(audio)\n",
    "\t\tif self.target_transform:\n",
    "\t\t\tlabel = self.target_transform(label)\n",
    "\t\treturn audio, label"
   ]
  },
  {
   "cell_type": "markdown",
   "id": "12492eba",
   "metadata": {},
   "source": [
    "## Data module"
   ]
  },
  {
   "cell_type": "code",
   "execution_count": null,
   "id": "94538e9a",
   "metadata": {},
   "outputs": [],
   "source": [
    "class BirdsDataModule(pl.LightningDataModule):\n",
    "\tdef __init__(self, batch_size):\n",
    "\t\tsuper().__init__()\n",
    "\t\tself.batch_size = batch_size\n",
    "\t\tself.base_transform = transforms.Compose([\n",
    "\t\t\t# TODO\n",
    "\t\t])\n",
    "\t\tself.reverse_transform = transforms.Compose([\n",
    "\t\t\t# TODO\n",
    "\t\t])\n",
    "\n",
    "\t\tself.dataset_notransform = BirdsDataset(metadata_path, audio_dir, transform = None)\n",
    "\t\tself.dataset = BirdsDataset(metadata_path, audio_dir, transform = self.base_transform)\n",
    "\n",
    "\t# override\n",
    "\tdef setup(self, stage=None):\n",
    "\t\ttrain, test_val = train_test_split(self.dataset, test_size=test_val_size, random_state=random_state)\n",
    "\t\ttest, val = train_test_split(test_val, test_size=test_size, random_state=random_state)\n",
    "\t\tself.train_dataset = train\n",
    "\t\tself.val_dataset = val\n",
    "\t\tself.test_dataset = test\n",
    "\n",
    "\t# override\n",
    "\tdef train_dataloader(self):\n",
    "\t\treturn torch.utils.data.DataLoader(\n",
    "\t\t\tself.train_dataset,\n",
    "\t\t\tbatch_size=self.batch_size,\n",
    "\t\t\tnum_workers=num_workers,\n",
    "\t\t\tpin_memory=True,\n",
    "\t\t\tdrop_last=True,\n",
    "\t\t\tshuffle=False,\n",
    "\t\t\tpersistent_workers=True\n",
    "\t\t\t\t# avoid recreating after every fast epoch\n",
    "\t\t)\n",
    "\n",
    "\t# override\n",
    "\tdef val_dataloader(self):\n",
    "\t\treturn torch.utils.data.DataLoader(\n",
    "\t\t\tself.val_dataset,\n",
    "\t\t\tbatch_size=self.batch_size,\n",
    "\t\t\tnum_workers=num_workers,\n",
    "\t\t\tpin_memory=True,\n",
    "\t\t\tdrop_last=True,\n",
    "\t\t\tshuffle=False,\n",
    "\t\t\tpersistent_workers=True\n",
    "\t\t)\n",
    "\n",
    "\t# override\n",
    "\tdef test_dataloader(self):\n",
    "\t\treturn DataLoader(\n",
    "\t\t\tself.test_dataset,\n",
    "\t\t\tbatch_size=self.batch_size,\n",
    "\t\t\tnum_workers=num_workers,\n",
    "\t\t\tpin_memory=True,\n",
    "\t\t\tdrop_last=True,\n",
    "\t\t\tshuffle=False,\n",
    "\t\t\tpersistent_workers=True\n",
    "\t\t)\n",
    "\n",
    "birds_dm = BirdsDataModule(batch_size)\n",
    "birds_dm.prepare_data()\n",
    "birds_dm.setup()"
   ]
  },
  {
   "cell_type": "markdown",
   "id": "5e2a6d30",
   "metadata": {},
   "source": [
    "## Data visualization"
   ]
  },
  {
   "cell_type": "markdown",
   "id": "70f962df",
   "metadata": {},
   "source": [
    "## Data analysis"
   ]
  },
  {
   "cell_type": "markdown",
   "id": "951ecf12",
   "metadata": {},
   "source": [
    "## Metrics"
   ]
  },
  {
   "cell_type": "markdown",
   "id": "35b307ad",
   "metadata": {},
   "source": [
    "## Baseline"
   ]
  },
  {
   "cell_type": "markdown",
   "id": "f8ad364a",
   "metadata": {},
   "source": [
    "## Model"
   ]
  }
 ],
 "metadata": {
  "kernelspec": {
   "display_name": ".venv",
   "language": "python",
   "name": "python3"
  },
  "language_info": {
   "codemirror_mode": {
    "name": "ipython",
    "version": 3
   },
   "file_extension": ".py",
   "mimetype": "text/x-python",
   "name": "python",
   "nbconvert_exporter": "python",
   "pygments_lexer": "ipython3",
   "version": "3.12.9"
  }
 },
 "nbformat": 4,
 "nbformat_minor": 5
}
