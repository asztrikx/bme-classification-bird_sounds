{
  "cells": [
    {
      "cell_type": "code",
      "execution_count": 2,
      "id": "690cc07b",
      "metadata": {
        "colab": {
          "base_uri": "https://localhost:8080/"
        },
        "id": "690cc07b",
        "outputId": "6728ec2e-b90f-48a0-b140-f5e08d648511"
      },
      "outputs": [
        {
          "name": "stdout",
          "output_type": "stream",
          "text": [
            "Notebook is running on Google Colab.\n",
            "\n",
            "  % Total    % Received % Xferd  Average Speed   Time    Time     Time  Current\n",
            "                                 Dload  Upload   Total   Spent    Left  Speed\n",
            "100   732  100   732    0     0   1440      0 --:--:-- --:--:-- --:--:--  1438\n",
            "\u001b[2K   \u001b[90m━━━━━━━━━━━━━━━━━━━━━━━━━━━━━━━━━━━━━━━━\u001b[0m \u001b[32m823.0/823.0 kB\u001b[0m \u001b[31m46.5 MB/s\u001b[0m eta \u001b[36m0:00:00\u001b[0m\n",
            "\u001b[2K   \u001b[90m━━━━━━━━━━━━━━━━━━━━━━━━━━━━━━━━━━━━━━━━\u001b[0m \u001b[32m46.9/46.9 MB\u001b[0m \u001b[31m46.9 MB/s\u001b[0m eta \u001b[36m0:00:00\u001b[0m\n",
            "\u001b[2K   \u001b[90m━━━━━━━━━━━━━━━━━━━━━━━━━━━━━━━━━━━━━━━━\u001b[0m \u001b[32m322.2/322.2 kB\u001b[0m \u001b[31m27.6 MB/s\u001b[0m eta \u001b[36m0:00:00\u001b[0m\n",
            "\u001b[2K   \u001b[90m━━━━━━━━━━━━━━━━━━━━━━━━━━━━━━━━━━━━━━━━\u001b[0m \u001b[32m95.2/95.2 kB\u001b[0m \u001b[31m9.1 MB/s\u001b[0m eta \u001b[36m0:00:00\u001b[0m\n",
            "\u001b[2K   \u001b[90m━━━━━━━━━━━━━━━━━━━━━━━━━━━━━━━━━━━━━━━━\u001b[0m \u001b[32m11.4/11.4 MB\u001b[0m \u001b[31m119.9 MB/s\u001b[0m eta \u001b[36m0:00:00\u001b[0m\n",
            "\u001b[2K   \u001b[90m━━━━━━━━━━━━━━━━━━━━━━━━━━━━━━━━━━━━━━━━\u001b[0m \u001b[32m72.0/72.0 kB\u001b[0m \u001b[31m6.7 MB/s\u001b[0m eta \u001b[36m0:00:00\u001b[0m\n",
            "\u001b[2K   \u001b[90m━━━━━━━━━━━━━━━━━━━━━━━━━━━━━━━━━━━━━━━━\u001b[0m \u001b[32m363.4/363.4 MB\u001b[0m \u001b[31m2.9 MB/s\u001b[0m eta \u001b[36m0:00:00\u001b[0m\n",
            "\u001b[2K   \u001b[90m━━━━━━━━━━━━━━━━━━━━━━━━━━━━━━━━━━━━━━━━\u001b[0m \u001b[32m13.8/13.8 MB\u001b[0m \u001b[31m118.5 MB/s\u001b[0m eta \u001b[36m0:00:00\u001b[0m\n",
            "\u001b[2K   \u001b[90m━━━━━━━━━━━━━━━━━━━━━━━━━━━━━━━━━━━━━━━━\u001b[0m \u001b[32m24.6/24.6 MB\u001b[0m \u001b[31m89.8 MB/s\u001b[0m eta \u001b[36m0:00:00\u001b[0m\n",
            "\u001b[2K   \u001b[90m━━━━━━━━━━━━━━━━━━━━━━━━━━━━━━━━━━━━━━━━\u001b[0m \u001b[32m883.7/883.7 kB\u001b[0m \u001b[31m51.1 MB/s\u001b[0m eta \u001b[36m0:00:00\u001b[0m\n",
            "\u001b[2K   \u001b[90m━━━━━━━━━━━━━━━━━━━━━━━━━━━━━━━━━━━━━━━━\u001b[0m \u001b[32m664.8/664.8 MB\u001b[0m \u001b[31m2.2 MB/s\u001b[0m eta \u001b[36m0:00:00\u001b[0m\n",
            "\u001b[2K   \u001b[90m━━━━━━━━━━━━━━━━━━━━━━━━━━━━━━━━━━━━━━━━\u001b[0m \u001b[32m211.5/211.5 MB\u001b[0m \u001b[31m4.6 MB/s\u001b[0m eta \u001b[36m0:00:00\u001b[0m\n",
            "\u001b[2K   \u001b[90m━━━━━━━━━━━━━━━━━━━━━━━━━━━━━━━━━━━━━━━━\u001b[0m \u001b[32m56.3/56.3 MB\u001b[0m \u001b[31m39.7 MB/s\u001b[0m eta \u001b[36m0:00:00\u001b[0m\n",
            "\u001b[2K   \u001b[90m━━━━━━━━━━━━━━━━━━━━━━━━━━━━━━━━━━━━━━━━\u001b[0m \u001b[32m127.9/127.9 MB\u001b[0m \u001b[31m18.2 MB/s\u001b[0m eta \u001b[36m0:00:00\u001b[0m\n",
            "\u001b[2K   \u001b[90m━━━━━━━━━━━━━━━━━━━━━━━━━━━━━━━━━━━━━━━━\u001b[0m \u001b[32m207.5/207.5 MB\u001b[0m \u001b[31m4.2 MB/s\u001b[0m eta \u001b[36m0:00:00\u001b[0m\n",
            "\u001b[2K   \u001b[90m━━━━━━━━━━━━━━━━━━━━━━━━━━━━━━━━━━━━━━━━\u001b[0m \u001b[32m21.1/21.1 MB\u001b[0m \u001b[31m97.5 MB/s\u001b[0m eta \u001b[36m0:00:00\u001b[0m\n",
            "\u001b[2K   \u001b[90m━━━━━━━━━━━━━━━━━━━━━━━━━━━━━━━━━━━━━━━━\u001b[0m \u001b[32m961.5/961.5 kB\u001b[0m \u001b[31m59.1 MB/s\u001b[0m eta \u001b[36m0:00:00\u001b[0m\n",
            "\u001b[2K   \u001b[90m━━━━━━━━━━━━━━━━━━━━━━━━━━━━━━━━━━━━━━━━\u001b[0m \u001b[32m62.3/62.3 kB\u001b[0m \u001b[31m5.8 MB/s\u001b[0m eta \u001b[36m0:00:00\u001b[0m\n",
            "\u001b[?25h  % Total    % Received % Xferd  Average Speed   Time    Time     Time  Current\n",
            "                                 Dload  Upload   Total   Spent    Left  Speed\n",
            "100    30  100    30    0     0     81      0 --:--:-- --:--:-- --:--:--    81\n",
            "  % Total    % Received % Xferd  Average Speed   Time    Time     Time  Current\n",
            "                                 Dload  Upload   Total   Spent    Left  Speed\n",
            "100 5470k  100 5470k    0     0  13.6M      0 --:--:-- --:--:-- --:--:-- 13.6M\n"
          ]
        }
      ],
      "source": [
        "import os\n",
        "import sys\n",
        "\n",
        "if os.name == 'nt':\n",
        "    raise Exception(\"Windows run is not supported, see README.md. \")\n",
        "\n",
        "RUN_PLATFORM = os.getenv(\"RUN_PLATFORM\") or \"LOCAL\"\n",
        "if 'google.colab' in sys.modules:\n",
        "    RUN_PLATFORM = \"COLAB\"\n",
        "\n",
        "if RUN_PLATFORM == \"COLAB\":\n",
        "\tprint(\"Notebook is running on Google Colab.\\n\")\n",
        "\n",
        "\tfrom google.colab import drive\n",
        "\tdrive.mount('/content/drive')\n",
        "\t!cp '/content/drive/My Drive/Birdo_data/data_updated.zip' '/content/data_updated.zip'\n",
        "\t!unzip '/content/data_updated.zip' -d '/content/data/'\n",
        "\n",
        "\t!curl -L -O https://raw.githubusercontent.com/asztrikx/bme-classification-bird_sounds/refs/heads/master/requirements.txt\n",
        "\t!pip install pytorch-lightning wandb librosa opencv-python pydub dotenv gradio -q\n",
        "\tdata_dir = \"data\"\n",
        "\tos.makedirs(data_dir, exist_ok=True)\n",
        "\t#if not os.path.exists(\"data/train_spectrogram\"):\n",
        "\t\t#!gdown 1Kqg7NQ2uAFLa6x1QuP87TXFqx4lR16Gi\n",
        "\t\t#!tar xzfv train_spectrogram.tar.gz -C data/ --checkpoint=.100\n",
        "\t\t#!gdown 1FdPskLKv7u9QNMUcU77uhfd3XhIdD3bS -O data/train_spectrogram.csv\n",
        "\t!curl -L https://raw.githubusercontent.com/asztrikx/bme-classification-bird_sounds/refs/heads/master/.env.template -o .env\n",
        "\t!curl -L https://raw.githubusercontent.com/asztrikx/bme-classification-bird_sounds/refs/heads/master/data/train_metadata_updated.csv -o data/train_metadata_updated.csv\n",
        "elif RUN_PLATFORM == \"LOCAL\":\n",
        "\tprint(\"Notebook is running locally.\\n\")\n",
        "\t# Make sure that when not in docker, packages are installed\n",
        "\t!pip install -r requirements.txt\n",
        "\tdata_dir = \"data\"\n",
        "elif RUN_PLATFORM == \"KAGGLE\":\n",
        "\tprint(\"Notebook is running on Kaggle.\\n\")\n",
        "\tdata_dir = \"\"\n",
        "\n",
        "# Install ffmpeg for AudioSegment if not already (avoid sudo prompt)\n",
        "!dpkg-query -W -f='${Status}\\n' ffmpeg 2>/dev/null | grep -q \"install ok installed\" || sudo apt install -y ffmpeg\n",
        "\n",
        "metadata_path = os.path.join(data_dir, \"train_metadata_updated.csv\")\n",
        "audio_dir = os.path.join(data_dir, \"train_audio\")\n",
        "spectrogram_dir = os.path.join(data_dir, \"train_spectrogram\")\n",
        "os.makedirs(spectrogram_dir, exist_ok=True)\n",
        "spectrogram_metadata_path = os.path.join(data_dir, \"train_spectrogram.csv\")"
      ]
    },
    {
      "cell_type": "code",
      "execution_count": 3,
      "id": "initial_id",
      "metadata": {
        "colab": {
          "base_uri": "https://localhost:8080/",
          "height": 182
        },
        "collapsed": true,
        "id": "initial_id",
        "outputId": "bc0c54b7-3fe1-4a45-8e7e-b39159b0598c"
      },
      "outputs": [
        {
          "name": "stdout",
          "output_type": "stream",
          "text": [
            "You are in Colab so may not see hidden files (starting with '.'). To see them click on the eye icon in the header part of the Colab file explorer (where you can browse your files).\n"
          ]
        },
        {
          "name": "stderr",
          "output_type": "stream",
          "text": [
            "\u001b[34m\u001b[1mwandb\u001b[0m: Using wandb-core as the SDK backend.  Please refer to https://wandb.me/wandb-core for more information.\n"
          ]
        },
        {
          "data": {
            "application/javascript": "\n        window._wandbApiKey = new Promise((resolve, reject) => {\n            function loadScript(url) {\n            return new Promise(function(resolve, reject) {\n                let newScript = document.createElement(\"script\");\n                newScript.onerror = reject;\n                newScript.onload = resolve;\n                document.body.appendChild(newScript);\n                newScript.src = url;\n            });\n            }\n            loadScript(\"https://cdn.jsdelivr.net/npm/postmate/build/postmate.min.js\").then(() => {\n            const iframe = document.createElement('iframe')\n            iframe.style.cssText = \"width:0;height:0;border:none\"\n            document.body.appendChild(iframe)\n            const handshake = new Postmate({\n                container: iframe,\n                url: 'https://wandb.ai/authorize'\n            });\n            const timeout = setTimeout(() => reject(\"Couldn't auto authenticate\"), 5000)\n            handshake.then(function(child) {\n                child.on('authorize', data => {\n                    clearTimeout(timeout)\n                    resolve(data)\n                });\n            });\n            })\n        });\n    ",
            "text/plain": [
              "<IPython.core.display.Javascript object>"
            ]
          },
          "metadata": {},
          "output_type": "display_data"
        },
        {
          "name": "stderr",
          "output_type": "stream",
          "text": [
            "\u001b[34m\u001b[1mwandb\u001b[0m: \u001b[33mWARNING\u001b[0m If you're specifying your api key in code, ensure this code is not shared publicly.\n",
            "\u001b[34m\u001b[1mwandb\u001b[0m: \u001b[33mWARNING\u001b[0m Consider setting the WANDB_API_KEY environment variable, or running `wandb login` from the command line.\n",
            "\u001b[34m\u001b[1mwandb\u001b[0m: No netrc file found, creating one.\n",
            "\u001b[34m\u001b[1mwandb\u001b[0m: Appending key for api.wandb.ai to your netrc file: /root/.netrc\n",
            "\u001b[34m\u001b[1mwandb\u001b[0m: Currently logged in as: \u001b[33mhorvath-szilard\u001b[0m (\u001b[33mhorvath-szilard-budapesti-m-szaki-s-gazdas-gtudom-nyi-eg\u001b[0m) to \u001b[32mhttps://api.wandb.ai\u001b[0m. Use \u001b[1m`wandb login --relogin`\u001b[0m to force relogin\n"
          ]
        }
      ],
      "source": [
        "import matplotlib.pyplot as plt\n",
        "import matplotlib.image as mpimg\n",
        "%matplotlib inline\n",
        "\t# avoid rare bugs when image won't plot\n",
        "import numpy as np\n",
        "import pandas as pd\n",
        "import seaborn as sns\n",
        "import tensorflow as tf\n",
        "\n",
        "import pytorch_lightning as pl\n",
        "from pytorch_lightning import Trainer\n",
        "from pytorch_lightning.loggers import WandbLogger\n",
        "\n",
        "# loads .env file into runtime env vars\n",
        "import os.path\n",
        "if \"google.colab\" in sys.modules:\n",
        "\tprint(\n",
        "\t\t\"You are in Colab so may not see hidden files (starting with '.'). \"\n",
        "\t\t\"To see them click on the eye icon in the header part of the Colab \"\n",
        "\t\t\"file explorer (where you can browse your files).\"\n",
        "\t)\n",
        "if not os.path.isfile(\".env\"):\n",
        "\traise Exception(\".env must be created by copying .env.template and filling out the values\")\n",
        "from dotenv import load_dotenv\n",
        "load_dotenv(override=True)\n",
        "\n",
        "import torch\n",
        "from torch import nn\n",
        "from torch.nn import functional as F\n",
        "from torch.utils.data import random_split, DataLoader, Dataset\n",
        "from torchvision import transforms\n",
        "import torchmetrics\n",
        "\n",
        "# make it not fail in terminal execution\n",
        "from IPython.display import display\n",
        "from IPython.display import Audio\n",
        "import gradio as gr\n",
        "\n",
        "from types import SimpleNamespace\n",
        "\t# make dict to class\n",
        "import pathlib\n",
        "import platform\n",
        "\n",
        "from sklearn.model_selection import train_test_split\n",
        "from sklearn.preprocessing import LabelEncoder\n",
        "from tqdm import tqdm\n",
        "from typing import Counter\n",
        "\n",
        "# Audio process\n",
        "import librosa\n",
        "import librosa.display\n",
        "import cv2\n",
        "import PIL\n",
        "\n",
        "# Threading\n",
        "from concurrent.futures import ThreadPoolExecutor\n",
        "import concurrent.futures\n",
        "\n",
        "# Wandb\n",
        "import wandb\n",
        "wandb.login()\n",
        "PROJECT_NAME = \"bme-classification-bird_sounds\""
      ]
    },
    {
      "cell_type": "markdown",
      "id": "1af87a0f",
      "metadata": {
        "id": "1af87a0f"
      },
      "source": [
        "## Hyperparameter configuration, set random states"
      ]
    },
    {
      "cell_type": "code",
      "execution_count": 21,
      "id": "eb18f175",
      "metadata": {
        "id": "eb18f175"
      },
      "outputs": [],
      "source": [
        "# hyperparameters\n",
        "test_val_size = 0.2 # size of test and validation together to the whole dataset\n",
        "test_size = 0.5 # size of test to test and validation together\n",
        "# number of workers for data loading\n",
        "if RUN_PLATFORM == \"COLAB\":\n",
        "    num_workers = 4\n",
        "elif RUN_PLATFORM == \"LOCAL\":\n",
        "    num_workers = 4\n",
        "\n",
        "is_gradio_on = True\n",
        "\n",
        "# Faster exec. on newer GPUs\n",
        "#torch.set_float32_matmul_precision('medium')\n",
        "\n",
        "# Fix random early on\n",
        "random_state = 42 # random state\n",
        "np.random.seed(random_state)\n",
        "torch.manual_seed(random_state)\n",
        "torch.cuda.manual_seed_all(random_state)\n",
        "\n",
        "device = 'cuda' if torch.cuda.is_available() else 'cpu'"
      ]
    },
    {
      "cell_type": "markdown",
      "id": "97fa59aa",
      "metadata": {
        "id": "97fa59aa"
      },
      "source": [
        "## Metadata csv"
      ]
    },
    {
      "cell_type": "code",
      "execution_count": 22,
      "id": "aab67c3b",
      "metadata": {
        "id": "aab67c3b"
      },
      "outputs": [],
      "source": [
        "metadata = pd.read_csv(metadata_path)\n",
        "metadata = metadata[metadata[\"delete\"] == False].reset_index(drop=True)"
      ]
    },
    {
      "cell_type": "markdown",
      "id": "a919d3a7",
      "metadata": {
        "id": "a919d3a7"
      },
      "source": [
        "## Train test split"
      ]
    },
    {
      "cell_type": "code",
      "execution_count": 23,
      "id": "ab3c82c0",
      "metadata": {
        "id": "ab3c82c0"
      },
      "outputs": [],
      "source": [
        "# Bugfix, remove datas based on train-test split after segmentation\n",
        "df = pd.read_csv(spectrogram_metadata_path)\n",
        "if not 'train_test_val' in metadata.columns and 'train_test_val' in df.columns:\n",
        "\tmodels = [\"cnn\", \"finetune\"]\n",
        "\tfor model in models:\n",
        "\t\tmodelPath = f\"models/{model}.ckpt\"\n",
        "\t\tif os.path.exists(modelPath):\n",
        "\t\t\tos.remove(modelPath)\n",
        "\trecreateSpectrogramTrainTestVal = True\n",
        "else:\n",
        "\trecreateSpectrogramTrainTestVal = False"
      ]
    },
    {
      "cell_type": "markdown",
      "id": "c77368b4",
      "metadata": {
        "id": "c77368b4"
      },
      "source": [
        "This must be done before creating segments, to avoid one audio's segments being in train set and test test also"
      ]
    },
    {
      "cell_type": "code",
      "execution_count": 24,
      "id": "a506f926",
      "metadata": {
        "id": "a506f926"
      },
      "outputs": [],
      "source": [
        "if not 'train_test_val' in metadata.columns:\n",
        "\ttrain, test_val = train_test_split(metadata, test_size=test_val_size, random_state=random_state)\n",
        "\ttest, val = train_test_split(test_val, test_size=test_size, random_state=random_state)\n",
        "\n",
        "\tmetadata.loc[train.index, \"train_test_val\"] = \"train\"\n",
        "\tmetadata.loc[test.index, \"train_test_val\"] = \"test\"\n",
        "\tmetadata.loc[val.index, \"train_test_val\"] = \"val\"\n",
        "\n",
        "\tmetadata.to_csv(metadata_path, index=False)"
      ]
    },
    {
      "cell_type": "code",
      "execution_count": 25,
      "id": "7f20fcbf",
      "metadata": {
        "id": "7f20fcbf"
      },
      "outputs": [],
      "source": [
        "# Bugfix\n",
        "recreateSpectrogramTrainTestVal = True\n",
        "if recreateSpectrogramTrainTestVal:\n",
        "\tdf = pd.read_csv(spectrogram_metadata_path)\n",
        "\tdf.drop(columns=['train_test_val'], inplace=True)\n",
        "\tdf = df.merge(metadata[['filename', 'train_test_val']], left_on='audio_path', right_on='filename')\n",
        "\tdf.drop(columns=['filename'], inplace=True)\n",
        "\tdf.to_csv(spectrogram_metadata_path, index=False)"
      ]
    },
    {
      "cell_type": "markdown",
      "id": "_ejyI7ag3IIf",
      "metadata": {
        "id": "_ejyI7ag3IIf"
      },
      "source": [
        "## Transform data (Cached)"
      ]
    },
    {
      "cell_type": "code",
      "execution_count": 26,
      "id": "f0988d7a",
      "metadata": {
        "id": "f0988d7a"
      },
      "outputs": [],
      "source": [
        "def process_sound_file(file_path, save=True, save_dir=None, segment_length=3, sr=22050, n_mels=128, n_fft=2048, hop_length=512):\n",
        "\ty, sr = librosa.load(file_path, sr=sr)\n",
        "\n",
        "\tsegment_samples = sr * segment_length\n",
        "\tnum_segments = int(np.ceil(len(y) / segment_samples))\n",
        "\n",
        "\tspectrogram_paths = []\n",
        "\tspectrograms = []\n",
        "\tfor i in range(num_segments):\n",
        "\t\tstart = i * segment_samples\n",
        "\t\tend = start + segment_samples\n",
        "\t\tsegment = y[start:end]\n",
        "\n",
        "\t\t#TODO how should padding work\n",
        "\t\tif len(segment) < segment_samples:\n",
        "\t\t\tif num_segments == 1:\n",
        "\t\t\t\tsegment = np.pad(segment, (0, segment_samples - len(segment)), mode='wrap')\n",
        "\t\t\telse:\n",
        "\t\t\t\tmissing_length = segment_samples - len(segment)\n",
        "\t\t\t\tsegment = np.concatenate((segment, y[:missing_length]))\n",
        "\t\tmel_spec = librosa.feature.melspectrogram(y=segment, sr=sr, n_mels=n_mels, n_fft=n_fft, hop_length=hop_length)\n",
        "\t\tmel_spec_db = librosa.power_to_db(mel_spec, ref=np.max)\n",
        "\n",
        "\t\tmel_spec_resized = cv2.resize(mel_spec_db, (128, 128)) # TODO n_mels?\n",
        "\n",
        "\t\tif save:\n",
        "\t\t\t\timage_filename = f\"{os.path.basename(file_path).replace('.ogg', '')}_seg{i}.png\"\n",
        "\t\t\t\timage_path = os.path.join(save_dir, image_filename)\n",
        "\t\t\t\tplt.imsave(image_path, mel_spec_resized, cmap='inferno')\n",
        "\n",
        "\t\t\t\tspectrogram_paths.append(image_path)\n",
        "\t\telse:\n",
        "\t\t\t\tspectrograms.append(mel_spec_resized)\n",
        "\n",
        "\treturn spectrogram_paths, spectrograms"
      ]
    },
    {
      "cell_type": "code",
      "execution_count": 27,
      "id": "052eea01",
      "metadata": {
        "id": "052eea01"
      },
      "outputs": [],
      "source": [
        "if not os.path.isfile(spectrogram_metadata_path):\n",
        "\tdata = []\n",
        "\n",
        "\t# Create subdirs outside of loop\n",
        "\tfor species in metadata[\"primary_label\"].unique():\n",
        "\t\tos.makedirs(os.path.join(spectrogram_dir, species), exist_ok=True)\n",
        "\n",
        "\twith tqdm(total=len(metadata)) as pbar:\n",
        "\t\twith ThreadPoolExecutor() as executor:\n",
        "\t\t\tdef get_spectrogram(filename):\n",
        "\t\t\t\taudio_path = os.path.join(audio_dir, filename)\n",
        "\t\t\t\tspecies = filename.split('/')[0]\n",
        "\n",
        "\t\t\t\tout_path = os.path.join(spectrogram_dir, species)\n",
        "\t\t\t\taudio_spectrograms, _ = process_sound_file(audio_path, save_dir=out_path, sr=32000)\n",
        "\n",
        "\t\t\t\treturn audio_spectrograms\n",
        "\n",
        "\t\t\tfutures = {\n",
        "\t\t\t\texecutor.submit(get_spectrogram, filename): filename\n",
        "\t\t\t\tfor filename in metadata[\"filename\"]\n",
        "\t\t\t}\n",
        "\t\t\tfor future in concurrent.futures.as_completed(futures):\n",
        "\t\t\t\tfilename = futures[future]\n",
        "\t\t\t\taudio_spectrograms = future.result()\n",
        "\n",
        "\t\t\t\t# Get other data from metadata: do not do this in Dataset for caching\n",
        "\t\t\t\trow = metadata[metadata[\"filename\"] == filename]\n",
        "\t\t\t\tlatitude = row[\"latitude\"].values[0]\n",
        "\t\t\t\tlongitude = row[\"longitude\"].values[0]\n",
        "\t\t\t\tauthor = row[\"author\"].values[0]\n",
        "\t\t\t\ttrain_test_val = row[\"train_test_val\"].values[0]\n",
        "\n",
        "\t\t\t\tlabel = species\n",
        "\n",
        "\t\t\t\tfor audio_spectrogram in audio_spectrograms:\n",
        "\t\t\t\t\taudio_spectrogram = os.path.relpath(audio_spectrogram, spectrogram_dir)\n",
        "\t\t\t\t\tdata.append((filename, audio_spectrogram, label, author, latitude, longitude, train_test_val))\n",
        "\t\t\t\tpbar.update(1)\n",
        "\n",
        "\tspectrogram_df = pd.DataFrame(data, columns=[\"audio_path\", \"spectrogram_path\", \"label\", \"author\", \"latitude\", \"longitude\", \"train_test_val\"])\n",
        "\tspectrogram_df.to_csv(spectrogram_metadata_path, index=False)\n",
        "else:\n",
        "\tspectrogram_df = pd.read_csv(spectrogram_metadata_path)"
      ]
    },
    {
      "cell_type": "code",
      "execution_count": 28,
      "id": "637949dd",
      "metadata": {
        "id": "637949dd"
      },
      "outputs": [],
      "source": [
        "# Bugfix: all labels were the last labels\n",
        "if (spectrogram_df[\"label\"] == \"zitcis1\").all():\n",
        "\tspectrogram_df[\"label\"] = spectrogram_df[\"audio_path\"].apply(lambda path: path.split('/')[0])\n",
        "\tspectrogram_df.to_csv(spectrogram_metadata_path, index=False)"
      ]
    },
    {
      "cell_type": "code",
      "execution_count": 29,
      "id": "34eeee3a",
      "metadata": {
        "id": "34eeee3a"
      },
      "outputs": [],
      "source": [
        "# Bugfix: Wrong slash type in path\n",
        "spectrogram_df[\"spectrogram_path\"] = spectrogram_df[\"spectrogram_path\"].apply(lambda path: path.replace('\\\\', '/'))\n",
        "spectrogram_df.to_csv(spectrogram_metadata_path, index=False)"
      ]
    },
    {
      "cell_type": "markdown",
      "id": "f8e99fe5",
      "metadata": {
        "id": "f8e99fe5"
      },
      "source": [
        "## Visualize 1 audio file's spectrograms"
      ]
    },
    {
      "cell_type": "code",
      "execution_count": 30,
      "id": "fdcb752d",
      "metadata": {
        "colab": {
          "base_uri": "https://localhost:8080/",
          "height": 638
        },
        "id": "fdcb752d",
        "outputId": "4f033e11-599d-4c85-dcff-a08d4f3ed6a6"
      },
      "outputs": [
        {
          "data": {
            "image/png": "[encoded data removed]",
            "text/plain": [
              "<Figure size 640x480 with 2 Axes>"
            ]
          },
          "metadata": {},
          "output_type": "display_data"
        }
      ],
      "source": [
        "first_spectrograms = spectrogram_df[spectrogram_df[\"audio_path\"] == spectrogram_df.iloc[0][\"audio_path\"]]\n",
        "first_spectrograms_paths = first_spectrograms[\"spectrogram_path\"].sort_values(ascending=True)\n",
        "\n",
        "fig, ax = plt.subplots(1, len(first_spectrograms_paths))\n",
        "for i, first_spectrograms_path in enumerate(first_spectrograms_paths):\n",
        "\tfullpath = os.path.join(spectrogram_dir, first_spectrograms_path)\n",
        "\n",
        "\tax[i].imshow(mpimg.imread(fullpath))\n",
        "\tax[i].set_xticks([])\n",
        "\tax[i].set_yticks([])\n",
        "\n",
        "plt.title(spectrogram_df.iloc[0][\"label\"]);"
      ]
    },
    {
      "cell_type": "code",
      "execution_count": 31,
      "id": "6f7c67e2",
      "metadata": {
        "colab": {
          "base_uri": "https://localhost:8080/",
          "height": 372
        },
        "id": "6f7c67e2",
        "outputId": "9769f6c3-dca8-416f-eb61-df673c19b09d"
      },
      "outputs": [
        {
          "data": {
            "text/plain": [
              "[<matplotlib.lines.Line2D at 0x7f030fb97710>]"
            ]
          },
          "execution_count": 13,
          "metadata": {},
          "output_type": "execute_result"
        },
        {
          "data": {
            "image/png": "[encoded data removed]",
            "text/plain": [
              "<Figure size 640x480 with 1 Axes>"
            ]
          },
          "metadata": {},
          "output_type": "display_data"
        }
      ],
      "source": [
        "from pydub import AudioSegment\n",
        "\n",
        "audio = AudioSegment.from_ogg(os.path.join(audio_dir, spectrogram_df.iloc[0][\"audio_path\"]))\n",
        "samples = np.array(audio.get_array_of_samples())\n",
        "if audio.channels == 2:\n",
        "    samples = samples.reshape((-1, 2))\n",
        "time_axis = np.linspace(0, len(audio) / 1000, num=len(samples))\n",
        "plt.xticks([])\n",
        "plt.yticks([])\n",
        "plt.title(spectrogram_df.iloc[0][\"label\"]);\n",
        "plt.plot(time_axis, samples)"
      ]
    },
    {
      "cell_type": "markdown",
      "id": "af5e2e3d",
      "metadata": {
        "id": "af5e2e3d"
      },
      "source": [
        "## Custom Dataset"
      ]
    },
    {
      "cell_type": "code",
      "execution_count": 32,
      "id": "d3ebda86",
      "metadata": {
        "id": "d3ebda86"
      },
      "outputs": [],
      "source": [
        "# Convert string labels to integer label IDs with LabelEncoder\n",
        "label_encoder = LabelEncoder()\n",
        "df = pd.read_csv(spectrogram_metadata_path)\n",
        "df[\"label_id\"] = label_encoder.fit_transform(df[\"label\"])\n",
        "df.to_csv(spectrogram_metadata_path, index=False)"
      ]
    },
    {
      "cell_type": "code",
      "execution_count": 33,
      "id": "2a48fa54",
      "metadata": {
        "id": "2a48fa54"
      },
      "outputs": [],
      "source": [
        "class BirdsDataset(Dataset):\n",
        "\t# override\n",
        "\tdef __init__(self, csv, train_test_val, transform = None, target_transform = None):\n",
        "\t\tself.df = pd.read_csv(csv)\n",
        "\t\tself.df = self.df[self.df[\"train_test_val\"] == train_test_val].reset_index(drop=True)\n",
        "\t\tself.transform = transform\n",
        "\t\tself.target_transform = target_transform\n",
        "\n",
        "\t# override\n",
        "\tdef __len__(self):\n",
        "\t\treturn len(self.df)\n",
        "\n",
        "\t# override\n",
        "\tdef __getitem__(self, index):\n",
        "\t\timage_path = self.df.iloc[index][\"spectrogram_path\"]\n",
        "\t\tif not image_path.startswith(\"data/train_spectrogram/\"):\n",
        "\t\t\timage_path = \"data/train_spectrogram/\" + image_path\n",
        "\t\taudio = PIL.Image.open(image_path).convert('RGB')\n",
        "\t\taudio = transforms.functional.to_tensor(audio)\n",
        "\n",
        "\t\tlabel = {\n",
        "\t\t\t\"label\": self.df.iloc[index][\"label\"],\n",
        "\t\t\t\"label_id\": self.df.iloc[index][\"label_id\"],\n",
        "\t\t\t\"latitude\": self.df.iloc[index][\"latitude\"],\n",
        "\t\t\t\"longitude\": self.df.iloc[index][\"longitude\"],\n",
        "\t\t\t\"author\": self.df.iloc[index][\"author\"],\n",
        "\t\t}\n",
        "\n",
        "\t\tif self.transform:\n",
        "\t\t\taudio = self.transform(audio).to(torch.float32)\n",
        "\t\tif self.target_transform:\n",
        "\t\t\tlabel = self.target_transform(label)\n",
        "\t\treturn audio, label"
      ]
    },
    {
      "cell_type": "markdown",
      "id": "12492eba",
      "metadata": {
        "id": "12492eba"
      },
      "source": [
        "## Data module"
      ]
    },
    {
      "cell_type": "code",
      "execution_count": 34,
      "id": "94538e9a",
      "metadata": {
        "id": "94538e9a"
      },
      "outputs": [],
      "source": [
        "class BirdsDataModule(pl.LightningDataModule):\n",
        "\tdef __init__(self, spectrogram_metadata_path, batch_size, base_transform):\n",
        "\t\tsuper().__init__()\n",
        "\t\tself.batch_size = batch_size\n",
        "\t\tself.base_transform = transforms.Compose([\n",
        "\t\t\tbase_transform\n",
        "\t\t])\n",
        "\n",
        "\t\tself.train_dataset = BirdsDataset(spectrogram_metadata_path, \"train\", transform = self.base_transform)\n",
        "\t\tself.val_dataset = BirdsDataset(spectrogram_metadata_path, \"val\", transform = self.base_transform)\n",
        "\t\tself.test_dataset = BirdsDataset(spectrogram_metadata_path, \"test\", transform = self.base_transform)\n",
        "\n",
        "\t# override\n",
        "\tdef train_dataloader(self):\n",
        "\t\treturn DataLoader(\n",
        "\t\t\tself.train_dataset,\n",
        "\t\t\tbatch_size=self.batch_size,\n",
        "\t\t\t# Windows: Sanity check hanged, when disabled epoch bar never showed, it just loaded infinitely: https://stackoverflow.com/a/70949425/4404911\n",
        "\t\t\tnum_workers=num_workers,\n",
        "\t\t\tpin_memory=True,\n",
        "\t\t\tdrop_last=True,\n",
        "\t\t\tshuffle=True,\n",
        "\t\t\tpersistent_workers=True\n",
        "\t\t\t\t# avoid recreating after every fast epoch\n",
        "\t\t)\n",
        "\n",
        "\t# override\n",
        "\tdef val_dataloader(self):\n",
        "\t\treturn DataLoader(\n",
        "\t\t\tself.val_dataset,\n",
        "\t\t\tbatch_size=self.batch_size,\n",
        "\t\t\tnum_workers=num_workers,\n",
        "\t\t\tpin_memory=True,\n",
        "\t\t\tdrop_last=False,\n",
        "\t\t\tshuffle=False,\n",
        "\t\t\tpersistent_workers=True\n",
        "\t\t)\n",
        "\n",
        "\t# override\n",
        "\tdef test_dataloader(self):\n",
        "\t\treturn DataLoader(\n",
        "\t\t\tself.test_dataset,\n",
        "\t\t\tbatch_size=self.batch_size,\n",
        "\t\t\tnum_workers=num_workers,\n",
        "\t\t\tpin_memory=True,\n",
        "\t\t\tdrop_last=False,\n",
        "\t\t\tshuffle=False,\n",
        "\t\t\tpersistent_workers=True\n",
        "\t\t)"
      ]
    },
    {
      "cell_type": "markdown",
      "id": "35b307ad",
      "metadata": {
        "id": "35b307ad"
      },
      "source": [
        "## Baseline"
      ]
    },
    {
      "cell_type": "markdown",
      "id": "989c2eba",
      "metadata": {
        "id": "989c2eba"
      },
      "source": [
        "Random"
      ]
    },
    {
      "cell_type": "code",
      "execution_count": null,
      "id": "61e4f5ba",
      "metadata": {},
      "outputs": [
        {
          "name": "stdout",
          "output_type": "stream",
          "text": [
            "Label count: 182\n",
            "Chance for random to predict per audio: 0.55%\n"
          ]
        }
      ],
      "source": [
        "labels = df[\"label\"].unique()\n",
        "print(f\"Label count: {len(labels)}\")\n",
        "print(f\"Chance for random to predict per audio: {1/len(labels) * 100:.2f}%\")\n",
        "\n",
        "tests = df[df[\"train_test_val\"] == \"test\"]"
      ]
    },
    {
      "cell_type": "code",
      "execution_count": null,
      "id": "4b4b004b",
      "metadata": {},
      "outputs": [
        {
          "name": "stdout",
          "output_type": "stream",
          "text": [
            "Expected multiclass accuracy: 0.55%\n",
            "Got: 0.42%\n"
          ]
        }
      ],
      "source": [
        "baseline_random_real = tests[\"label\"]\n",
        "baseline_random_predicted = np.random.choice(labels, len(tests))\n",
        "\n",
        "expected_correct = len(tests) * 1 / len(labels)\n",
        "actual_correct = (baseline_random_real == baseline_random_predicted).sum()\n",
        "\n",
        "print(f\"Expected multiclass accuracy: {expected_correct / len(tests) * 100:.2f}%\")\n",
        "print(f\"Got: {actual_correct / len(tests) * 100:.2f}%\")"
      ]
    },
    {
      "cell_type": "code",
      "execution_count": null,
      "id": "3094f5ef",
      "metadata": {},
      "outputs": [
        {
          "name": "stdout",
          "output_type": "stream",
          "text": [
            "Same with torchmetrics: 0.55%\n"
          ]
        }
      ],
      "source": [
        "accuracy = torchmetrics.Accuracy(task=\"multiclass\", num_classes=len(labels))\n",
        "\n",
        "baseline_random_real = tests[\"label_id\"]\n",
        "baseline_random_real = torch.from_numpy(baseline_random_real.to_numpy())\n",
        "baseline_random_predicted = np.random.choice(df[\"label_id\"].unique(), len(tests))\n",
        "baseline_random_predicted = torch.from_numpy(baseline_random_predicted)\n",
        "\n",
        "print(f\"Same with torchmetrics: {accuracy(baseline_random_predicted, baseline_random_real).item() * 100:.2f}%\")"
      ]
    },
    {
      "cell_type": "markdown",
      "id": "e7409977",
      "metadata": {
        "id": "e7409977"
      },
      "source": [
        "CNN"
      ]
    },
    {
      "cell_type": "code",
      "execution_count": null,
      "id": "1e872a8f",
      "metadata": {
        "id": "1e872a8f"
      },
      "outputs": [],
      "source": [
        "batch_size = 256"
      ]
    },
    {
      "cell_type": "code",
      "execution_count": null,
      "id": "e786f6de",
      "metadata": {
        "id": "e786f6de"
      },
      "outputs": [],
      "source": [
        "# https://pytorch-lightning.readthedocs.io/en/0.10.0/lightning_module.html\n",
        "class CNN(pl.LightningModule):\n",
        "\tdef __init__(self, labels_count, learning_rate, weight_decay):\n",
        "\t\tsuper().__init__()\n",
        "\n",
        "\t\t# Log hyperparameters\n",
        "\t\tself.save_hyperparameters()\n",
        "\t\tself.learning_rate = learning_rate\n",
        "\t\tself.weight_decay = weight_decay\n",
        "\n",
        "\t\tself.accuracy = torchmetrics.Accuracy(task=\"multiclass\", num_classes=labels_count)\n",
        "\n",
        "\t\tself.model = torch.nn.Sequential(\n",
        "\t\t\ttorch.nn.Conv2d(3, 64, kernel_size=4, stride=2, padding=1),\n",
        "\t\t\ttorch.nn.BatchNorm2d(64),\n",
        "\t\t\ttorch.nn.ReLU(),\n",
        "\t\t\ttorch.nn.Dropout(0.3),\n",
        "\n",
        "\t\t\ttorch.nn.Conv2d(64, 128, kernel_size=4, stride=2, padding=1),\n",
        "\t\t\ttorch.nn.BatchNorm2d(128),\n",
        "\t\t\ttorch.nn.ReLU(),\n",
        "\t\t\ttorch.nn.Dropout(0.3),\n",
        "\n",
        "\t\t\ttorch.nn.Conv2d(128, 256, kernel_size=4, stride=2, padding=1),\n",
        "\t\t\ttorch.nn.BatchNorm2d(256),\n",
        "\t\t\ttorch.nn.ReLU(),\n",
        "\t\t\ttorch.nn.Dropout(0.3),\n",
        "\n",
        "\t\t\ttorch.nn.AdaptiveAvgPool2d((4, 4)),\n",
        "\t\t\ttorch.nn.Flatten(),\n",
        "\n",
        "\t\t\ttorch.nn.Linear(4096, 256),\n",
        "\t\t\ttorch.nn.BatchNorm1d(256),\n",
        "\t\t\ttorch.nn.ReLU(),\n",
        "\t\t\ttorch.nn.Dropout(0.5),\n",
        "\n",
        "\t\t\ttorch.nn.Linear(256, labels_count)\n",
        "\t\t)\n",
        "\n",
        "\t# override\n",
        "\tdef forward(self, x):\n",
        "\t\treturn self.model(x)\n",
        "\n",
        "\t# https://lightning.ai/docs/pytorch/stable/api/lightning.pytorch.core.LightningModule.html#lightning.pytorch.core.LightningModule.log\n",
        "\tdef common_step(self, batch, batch_idx, train_val_test, prog_bar=False, on_epoch=None):\n",
        "\t\tpred_labels = self(batch[0])\n",
        "\n",
        "\t\tloss = F.cross_entropy(pred_labels, batch[1][\"label_id\"],label_smoothing=0.1)\n",
        "\t\taccuracy = self.accuracy(pred_labels, batch[1][\"label_id\"])\n",
        "\n",
        "\t\tself.log(f\"{train_val_test}_loss\", loss, on_epoch=on_epoch, prog_bar=prog_bar)\n",
        "\t\tself.log(f\"{train_val_test}_acc\", accuracy, on_epoch=on_epoch, prog_bar=prog_bar)\n",
        "\t\treturn loss\n",
        "\n",
        "\tdef training_step(self, batch, batch_idx):\n",
        "\t\treturn self.common_step(batch, batch_idx, \"train\", on_epoch=True, prog_bar =True)\n",
        "\n",
        "\tdef validation_step(self, batch, batch_idx):\n",
        "\t\treturn self.common_step(batch, batch_idx, \"val\", prog_bar=True)\n",
        "\n",
        "\tdef test_step(self, batch, batch_idx):\n",
        "\t\treturn self.common_step(batch, batch_idx, \"test\")\n",
        "\n",
        "\tdef configure_optimizers(self):\n",
        "\t\treturn torch.optim.Adam(self.parameters(), lr=self.learning_rate, weight_decay=self.weight_decay)\n",
        "\n",
        "def train_cnn(config=None):\n",
        "\tmodel_name = \"cnn\"\n",
        "\tif config is None:\n",
        "\t\tconfig = {\n",
        "\t\t\t\"optimizer_name\": \"adamw\",\n",
        "\t\t\t\"learning_rate\": 0.001,\n",
        "\t\t\t\"weight_decay\": 1e-3,\n",
        "\t\t\t\"epoch\": 200,\n",
        "\t\t\t\"early_stop_patience\": 10,\n",
        "\t\t}\n",
        "\n",
        "\twith wandb.init(config=config, project=PROJECT_NAME):\n",
        "\t\tconfig = wandb.config\n",
        "\t\twandb_logger = WandbLogger(log_model=True)\n",
        "\t\twandb_logger.log_hyperparams(config)\n",
        "\t\tprint(f\"\\nConfig to be used: {config}\\n\")\n",
        "\n",
        "\t\tdm = BirdsDataModule(spectrogram_metadata_path, batch_size, torch.nn.Identity())\n",
        "\n",
        "\t\tmodel = CNN(len(labels), config.learning_rate, config.weight_decay)\n",
        "\n",
        "\t\ttrainer = pl.Trainer(\n",
        "\t\t\tmax_epochs=config.epoch,\n",
        "\t\t\tcallbacks=[\n",
        "\t\t\t\tpl.callbacks.ModelCheckpoint(\n",
        "\t\t\t\t\tmonitor=\"val_acc\",\n",
        "\t\t\t\t\tsave_top_k=1,\n",
        "\t\t\t\t\tmode=\"max\",\n",
        "\t\t\t\t\tdirpath=f'./models/',\n",
        "\t\t\t\t\tfilename=model_name\n",
        "\t\t\t\t),\n",
        "\t\t\t\tpl.callbacks.EarlyStopping(\n",
        "\t\t\t\t\tmonitor=\"val_acc\",\n",
        "\t\t\t\t\tpatience=config.early_stop_patience,\n",
        "\t\t\t\t\tverbose=False,\n",
        "\t\t\t\t\tmode=\"max\"\n",
        "\t\t\t\t)\n",
        "\t\t\t],\n",
        "\t\t\tlogger = wandb_logger,\n",
        "\t\t\tlog_every_n_steps=50,\n",
        "\t\t\taccelerator=device,\n",
        "\t\t\tdevices=1,\n",
        "\t\t\t#precision=\"16-mixed\",\n",
        "\t\t\t#fast_dev_run = True,\n",
        "\t\t)\n",
        "\t\ttrainer.fit(model, dm)\n",
        "\t\ttrainer.test(dataloaders=dm.test_dataloader())\n",
        "\t\treturn model"
      ]
    },
    {
      "cell_type": "code",
      "execution_count": 22,
      "id": "ec389d1c",
      "metadata": {
        "colab": {
          "base_uri": "https://localhost:8080/",
          "height": 1000
        },
        "id": "ec389d1c",
        "outputId": "5bae8bcb-1b21-447e-d820-57741d352b05"
      },
      "outputs": [
        {
          "data": {
            "text/html": [
              "Tracking run with wandb version 0.18.5"
            ],
            "text/plain": [
              "<IPython.core.display.HTML object>"
            ]
          },
          "metadata": {},
          "output_type": "display_data"
        },
        {
          "data": {
            "text/html": [
              "Run data is saved locally in <code>/home/asztrikx/bird-train/wandb/run-20250415_201453-u580ixno</code>"
            ],
            "text/plain": [
              "<IPython.core.display.HTML object>"
            ]
          },
          "metadata": {},
          "output_type": "display_data"
        },
        {
          "data": {
            "text/html": [
              "Syncing run <strong><a href='https://wandb.ai/chirpai/bme-classification-bird_sounds/runs/u580ixno' target=\"_blank\">fine-wind-38</a></strong> to <a href='https://wandb.ai/chirpai/bme-classification-bird_sounds' target=\"_blank\">Weights & Biases</a> (<a href='https://wandb.me/run' target=\"_blank\">docs</a>)<br/>"
            ],
            "text/plain": [
              "<IPython.core.display.HTML object>"
            ]
          },
          "metadata": {},
          "output_type": "display_data"
        },
        {
          "data": {
            "text/html": [
              " View project at <a href='https://wandb.ai/chirpai/bme-classification-bird_sounds' target=\"_blank\">https://wandb.ai/chirpai/bme-classification-bird_sounds</a>"
            ],
            "text/plain": [
              "<IPython.core.display.HTML object>"
            ]
          },
          "metadata": {},
          "output_type": "display_data"
        },
        {
          "data": {
            "text/html": [
              " View run at <a href='https://wandb.ai/chirpai/bme-classification-bird_sounds/runs/u580ixno' target=\"_blank\">https://wandb.ai/chirpai/bme-classification-bird_sounds/runs/u580ixno</a>"
            ],
            "text/plain": [
              "<IPython.core.display.HTML object>"
            ]
          },
          "metadata": {},
          "output_type": "display_data"
        },
        {
          "name": "stderr",
          "output_type": "stream",
          "text": [
            "/home/asztrikx/bird-train/.venv/lib/python3.12/site-packages/pytorch_lightning/loggers/wandb.py:396: There is a wandb run already in progress and newly created instances of `WandbLogger` will reuse this run. If this is not desired, call `wandb.finish()` before instantiating `WandbLogger`.\n"
          ]
        },
        {
          "name": "stdout",
          "output_type": "stream",
          "text": [
            "\n",
            "Config to be used: {'optimizer_name': 'adamw', 'learning_rate': 0.001, 'weight_decay': 0.001, 'epoch': 200, 'early_stop_patience': 10}\n",
            "\n"
          ]
        },
        {
          "name": "stderr",
          "output_type": "stream",
          "text": [
            "GPU available: True (cuda), used: True\n",
            "TPU available: False, using: 0 TPU cores\n",
            "HPU available: False, using: 0 HPUs\n",
            "You are using a CUDA device ('NVIDIA GeForce RTX 3070 Laptop GPU') that has Tensor Cores. To properly utilize them, you should set `torch.set_float32_matmul_precision('medium' | 'high')` which will trade-off precision for performance. For more details, read https://pytorch.org/docs/stable/generated/torch.set_float32_matmul_precision.html#torch.set_float32_matmul_precision\n",
            "/home/asztrikx/bird-train/.venv/lib/python3.12/site-packages/pytorch_lightning/callbacks/model_checkpoint.py:654: Checkpoint directory /home/asztrikx/bird-train/models exists and is not empty.\n",
            "LOCAL_RANK: 0 - CUDA_VISIBLE_DEVICES: [0]\n",
            "\n",
            "  | Name     | Type               | Params | Mode \n",
            "--------------------------------------------------------\n",
            "0 | accuracy | MulticlassAccuracy | 0      | train\n",
            "1 | model    | Sequential         | 1.8 M  | train\n",
            "--------------------------------------------------------\n",
            "1.8 M     Trainable params\n",
            "0         Non-trainable params\n",
            "1.8 M     Total params\n",
            "7.024     Total estimated model params size (MB)\n",
            "21        Modules in train mode\n",
            "0         Modules in eval mode\n"
          ]
        },
        {
          "data": {
            "application/vnd.jupyter.widget-view+json": {
              "model_id": "3ce0f37d3c9847cea7709db0b36db409",
              "version_major": 2,
              "version_minor": 0
            },
            "text/plain": [
              "Sanity Checking: |          | 0/? [00:00<?, ?it/s]"
            ]
          },
          "metadata": {},
          "output_type": "display_data"
        },
        {
          "name": "stderr",
          "output_type": "stream",
          "text": [
            "/home/asztrikx/bird-train/.venv/lib/python3.12/site-packages/pytorch_lightning/utilities/data.py:78: Trying to infer the `batch_size` from an ambiguous collection. The batch size we found is 256. To avoid any miscalculations, use `self.log(..., batch_size=batch_size)`.\n"
          ]
        },
        {
          "data": {
            "application/vnd.jupyter.widget-view+json": {
              "model_id": "56ea97c5710a4794afcb389457822b31",
              "version_major": 2,
              "version_minor": 0
            },
            "text/plain": [
              "Training: |          | 0/? [00:00<?, ?it/s]"
            ]
          },
          "metadata": {},
          "output_type": "display_data"
        },
        {
          "data": {
            "application/vnd.jupyter.widget-view+json": {
              "model_id": "fef970738ad14bad928caf6e872802d9",
              "version_major": 2,
              "version_minor": 0
            },
            "text/plain": [
              "Validation: |          | 0/? [00:00<?, ?it/s]"
            ]
          },
          "metadata": {},
          "output_type": "display_data"
        },
        {
          "name": "stderr",
          "output_type": "stream",
          "text": [
            "/home/asztrikx/bird-train/.venv/lib/python3.12/site-packages/pytorch_lightning/utilities/data.py:78: Trying to infer the `batch_size` from an ambiguous collection. The batch size we found is 250. To avoid any miscalculations, use `self.log(..., batch_size=batch_size)`.\n"
          ]
        },
        {
          "data": {
            "application/vnd.jupyter.widget-view+json": {
              "model_id": "192224b96e524c7f81a6d5d8ad327d0c",
              "version_major": 2,
              "version_minor": 0
            },
            "text/plain": [
              "Validation: |          | 0/? [00:00<?, ?it/s]"
            ]
          },
          "metadata": {},
          "output_type": "display_data"
        },
        {
          "data": {
            "application/vnd.jupyter.widget-view+json": {
              "model_id": "05e2b8fefe84451cb88a4f62d852fd0a",
              "version_major": 2,
              "version_minor": 0
            },
            "text/plain": [
              "Validation: |          | 0/? [00:00<?, ?it/s]"
            ]
          },
          "metadata": {},
          "output_type": "display_data"
        },
        {
          "data": {
            "application/vnd.jupyter.widget-view+json": {
              "model_id": "2625af0682d64fb3bc7d1b288d6b3383",
              "version_major": 2,
              "version_minor": 0
            },
            "text/plain": [
              "Validation: |          | 0/? [00:00<?, ?it/s]"
            ]
          },
          "metadata": {},
          "output_type": "display_data"
        },
        {
          "data": {
            "application/vnd.jupyter.widget-view+json": {
              "model_id": "23f12878ff48445a942fb77e8f36f053",
              "version_major": 2,
              "version_minor": 0
            },
            "text/plain": [
              "Validation: |          | 0/? [00:00<?, ?it/s]"
            ]
          },
          "metadata": {},
          "output_type": "display_data"
        },
        {
          "data": {
            "application/vnd.jupyter.widget-view+json": {
              "model_id": "f8d3ae65a1194351a9a7b2d018162612",
              "version_major": 2,
              "version_minor": 0
            },
            "text/plain": [
              "Validation: |          | 0/? [00:00<?, ?it/s]"
            ]
          },
          "metadata": {},
          "output_type": "display_data"
        },
        {
          "data": {
            "application/vnd.jupyter.widget-view+json": {
              "model_id": "0b42f30b86bf415abf37ff312086c4fa",
              "version_major": 2,
              "version_minor": 0
            },
            "text/plain": [
              "Validation: |          | 0/? [00:00<?, ?it/s]"
            ]
          },
          "metadata": {},
          "output_type": "display_data"
        },
        {
          "data": {
            "application/vnd.jupyter.widget-view+json": {
              "model_id": "4e3bea7c4d13493bbd2b159c268f6d90",
              "version_major": 2,
              "version_minor": 0
            },
            "text/plain": [
              "Validation: |          | 0/? [00:00<?, ?it/s]"
            ]
          },
          "metadata": {},
          "output_type": "display_data"
        },
        {
          "data": {
            "application/vnd.jupyter.widget-view+json": {
              "model_id": "5c303b7df6fb48c7830a1aaa76320541",
              "version_major": 2,
              "version_minor": 0
            },
            "text/plain": [
              "Validation: |          | 0/? [00:00<?, ?it/s]"
            ]
          },
          "metadata": {},
          "output_type": "display_data"
        },
        {
          "data": {
            "application/vnd.jupyter.widget-view+json": {
              "model_id": "cf19c169a07b4c59b270726710831d03",
              "version_major": 2,
              "version_minor": 0
            },
            "text/plain": [
              "Validation: |          | 0/? [00:00<?, ?it/s]"
            ]
          },
          "metadata": {},
          "output_type": "display_data"
        },
        {
          "data": {
            "application/vnd.jupyter.widget-view+json": {
              "model_id": "8a1992707b9046a8836d5a154ff44c62",
              "version_major": 2,
              "version_minor": 0
            },
            "text/plain": [
              "Validation: |          | 0/? [00:00<?, ?it/s]"
            ]
          },
          "metadata": {},
          "output_type": "display_data"
        },
        {
          "data": {
            "application/vnd.jupyter.widget-view+json": {
              "model_id": "385eb02a034841718170db68d38aa1dd",
              "version_major": 2,
              "version_minor": 0
            },
            "text/plain": [
              "Validation: |          | 0/? [00:00<?, ?it/s]"
            ]
          },
          "metadata": {},
          "output_type": "display_data"
        },
        {
          "data": {
            "application/vnd.jupyter.widget-view+json": {
              "model_id": "77ec1d7c5b484bd78d46b78928975fde",
              "version_major": 2,
              "version_minor": 0
            },
            "text/plain": [
              "Validation: |          | 0/? [00:00<?, ?it/s]"
            ]
          },
          "metadata": {},
          "output_type": "display_data"
        },
        {
          "data": {
            "application/vnd.jupyter.widget-view+json": {
              "model_id": "242ba595697f408685cf7064913c1a51",
              "version_major": 2,
              "version_minor": 0
            },
            "text/plain": [
              "Validation: |          | 0/? [00:00<?, ?it/s]"
            ]
          },
          "metadata": {},
          "output_type": "display_data"
        },
        {
          "data": {
            "application/vnd.jupyter.widget-view+json": {
              "model_id": "7332fdb92866446f9edab98c3975a8d7",
              "version_major": 2,
              "version_minor": 0
            },
            "text/plain": [
              "Validation: |          | 0/? [00:00<?, ?it/s]"
            ]
          },
          "metadata": {},
          "output_type": "display_data"
        },
        {
          "data": {
            "application/vnd.jupyter.widget-view+json": {
              "model_id": "ab93977bbd32411286e11f64b0915f39",
              "version_major": 2,
              "version_minor": 0
            },
            "text/plain": [
              "Validation: |          | 0/? [00:00<?, ?it/s]"
            ]
          },
          "metadata": {},
          "output_type": "display_data"
        },
        {
          "data": {
            "application/vnd.jupyter.widget-view+json": {
              "model_id": "0905b1c787604da6ac3dfaad90162cd4",
              "version_major": 2,
              "version_minor": 0
            },
            "text/plain": [
              "Validation: |          | 0/? [00:00<?, ?it/s]"
            ]
          },
          "metadata": {},
          "output_type": "display_data"
        },
        {
          "data": {
            "application/vnd.jupyter.widget-view+json": {
              "model_id": "37b79a534d174a9eb884fb2ee490179d",
              "version_major": 2,
              "version_minor": 0
            },
            "text/plain": [
              "Validation: |          | 0/? [00:00<?, ?it/s]"
            ]
          },
          "metadata": {},
          "output_type": "display_data"
        },
        {
          "data": {
            "application/vnd.jupyter.widget-view+json": {
              "model_id": "9d6b2977153e464ea7b536844f6333d1",
              "version_major": 2,
              "version_minor": 0
            },
            "text/plain": [
              "Validation: |          | 0/? [00:00<?, ?it/s]"
            ]
          },
          "metadata": {},
          "output_type": "display_data"
        },
        {
          "data": {
            "application/vnd.jupyter.widget-view+json": {
              "model_id": "b33ac9f367294bc0a190fdf0c709817a",
              "version_major": 2,
              "version_minor": 0
            },
            "text/plain": [
              "Validation: |          | 0/? [00:00<?, ?it/s]"
            ]
          },
          "metadata": {},
          "output_type": "display_data"
        },
        {
          "data": {
            "application/vnd.jupyter.widget-view+json": {
              "model_id": "3553fc7779404f039ec065ccc9f54f74",
              "version_major": 2,
              "version_minor": 0
            },
            "text/plain": [
              "Validation: |          | 0/? [00:00<?, ?it/s]"
            ]
          },
          "metadata": {},
          "output_type": "display_data"
        },
        {
          "data": {
            "application/vnd.jupyter.widget-view+json": {
              "model_id": "78faf897038d45738936c793701d3f88",
              "version_major": 2,
              "version_minor": 0
            },
            "text/plain": [
              "Validation: |          | 0/? [00:00<?, ?it/s]"
            ]
          },
          "metadata": {},
          "output_type": "display_data"
        },
        {
          "data": {
            "application/vnd.jupyter.widget-view+json": {
              "model_id": "8c5885e936de47a0b8997aae008abe92",
              "version_major": 2,
              "version_minor": 0
            },
            "text/plain": [
              "Validation: |          | 0/? [00:00<?, ?it/s]"
            ]
          },
          "metadata": {},
          "output_type": "display_data"
        },
        {
          "data": {
            "application/vnd.jupyter.widget-view+json": {
              "model_id": "bc75a3e8aa734966bb8bfe0ba7b51f85",
              "version_major": 2,
              "version_minor": 0
            },
            "text/plain": [
              "Validation: |          | 0/? [00:00<?, ?it/s]"
            ]
          },
          "metadata": {},
          "output_type": "display_data"
        },
        {
          "data": {
            "application/vnd.jupyter.widget-view+json": {
              "model_id": "467e565526b24073bf2fa0d8b283e88b",
              "version_major": 2,
              "version_minor": 0
            },
            "text/plain": [
              "Validation: |          | 0/? [00:00<?, ?it/s]"
            ]
          },
          "metadata": {},
          "output_type": "display_data"
        },
        {
          "data": {
            "application/vnd.jupyter.widget-view+json": {
              "model_id": "ca98b0823ec344e3af15f79ec8b2a2b4",
              "version_major": 2,
              "version_minor": 0
            },
            "text/plain": [
              "Validation: |          | 0/? [00:00<?, ?it/s]"
            ]
          },
          "metadata": {},
          "output_type": "display_data"
        },
        {
          "data": {
            "application/vnd.jupyter.widget-view+json": {
              "model_id": "af0d1effc05c4d68a52578764d2a8103",
              "version_major": 2,
              "version_minor": 0
            },
            "text/plain": [
              "Validation: |          | 0/? [00:00<?, ?it/s]"
            ]
          },
          "metadata": {},
          "output_type": "display_data"
        },
        {
          "data": {
            "application/vnd.jupyter.widget-view+json": {
              "model_id": "85f5f078c1b3487facd11d7d168ada59",
              "version_major": 2,
              "version_minor": 0
            },
            "text/plain": [
              "Validation: |          | 0/? [00:00<?, ?it/s]"
            ]
          },
          "metadata": {},
          "output_type": "display_data"
        },
        {
          "data": {
            "application/vnd.jupyter.widget-view+json": {
              "model_id": "a795dd6408be45719c255532295b1c15",
              "version_major": 2,
              "version_minor": 0
            },
            "text/plain": [
              "Validation: |          | 0/? [00:00<?, ?it/s]"
            ]
          },
          "metadata": {},
          "output_type": "display_data"
        },
        {
          "data": {
            "application/vnd.jupyter.widget-view+json": {
              "model_id": "cc527cf75e7a41f599abe4e3c44d801f",
              "version_major": 2,
              "version_minor": 0
            },
            "text/plain": [
              "Validation: |          | 0/? [00:00<?, ?it/s]"
            ]
          },
          "metadata": {},
          "output_type": "display_data"
        },
        {
          "data": {
            "application/vnd.jupyter.widget-view+json": {
              "model_id": "4f9637b332dd43d3b4d9b13972fc506c",
              "version_major": 2,
              "version_minor": 0
            },
            "text/plain": [
              "Validation: |          | 0/? [00:00<?, ?it/s]"
            ]
          },
          "metadata": {},
          "output_type": "display_data"
        },
        {
          "data": {
            "application/vnd.jupyter.widget-view+json": {
              "model_id": "205197b8e35640218256af1f39c6d83b",
              "version_major": 2,
              "version_minor": 0
            },
            "text/plain": [
              "Validation: |          | 0/? [00:00<?, ?it/s]"
            ]
          },
          "metadata": {},
          "output_type": "display_data"
        },
        {
          "data": {
            "application/vnd.jupyter.widget-view+json": {
              "model_id": "9b3e1187c7654183ae5f7e5108fada5f",
              "version_major": 2,
              "version_minor": 0
            },
            "text/plain": [
              "Validation: |          | 0/? [00:00<?, ?it/s]"
            ]
          },
          "metadata": {},
          "output_type": "display_data"
        },
        {
          "data": {
            "application/vnd.jupyter.widget-view+json": {
              "model_id": "1cfda19e592d45f4b0315c5975e9f700",
              "version_major": 2,
              "version_minor": 0
            },
            "text/plain": [
              "Validation: |          | 0/? [00:00<?, ?it/s]"
            ]
          },
          "metadata": {},
          "output_type": "display_data"
        },
        {
          "data": {
            "application/vnd.jupyter.widget-view+json": {
              "model_id": "708c8405394b4271ac4045c3e0cb873e",
              "version_major": 2,
              "version_minor": 0
            },
            "text/plain": [
              "Validation: |          | 0/? [00:00<?, ?it/s]"
            ]
          },
          "metadata": {},
          "output_type": "display_data"
        },
        {
          "data": {
            "application/vnd.jupyter.widget-view+json": {
              "model_id": "bdafb871df99492d9f8826fbd090a507",
              "version_major": 2,
              "version_minor": 0
            },
            "text/plain": [
              "Validation: |          | 0/? [00:00<?, ?it/s]"
            ]
          },
          "metadata": {},
          "output_type": "display_data"
        },
        {
          "data": {
            "application/vnd.jupyter.widget-view+json": {
              "model_id": "b73d764202ab4849a97724379d60f40e",
              "version_major": 2,
              "version_minor": 0
            },
            "text/plain": [
              "Validation: |          | 0/? [00:00<?, ?it/s]"
            ]
          },
          "metadata": {},
          "output_type": "display_data"
        },
        {
          "name": "stderr",
          "output_type": "stream",
          "text": [
            "/home/asztrikx/bird-train/.venv/lib/python3.12/site-packages/pytorch_lightning/trainer/connectors/checkpoint_connector.py:145: `.test(ckpt_path=None)` was called without a model. The best model of the previous `fit` call will be used. You can pass `.test(ckpt_path='best')` to use the best model or `.test(ckpt_path='last')` to use the last model. If you pass a value, this warning will be silenced.\n",
            "Restoring states from the checkpoint path at /home/asztrikx/bird-train/models/cnn-v1.ckpt\n",
            "LOCAL_RANK: 0 - CUDA_VISIBLE_DEVICES: [0]\n",
            "Loaded model weights from the checkpoint at /home/asztrikx/bird-train/models/cnn-v1.ckpt\n"
          ]
        },
        {
          "data": {
            "application/vnd.jupyter.widget-view+json": {
              "model_id": "4def984b6eb24b5fbfe50bafc37bf06a",
              "version_major": 2,
              "version_minor": 0
            },
            "text/plain": [
              "Testing: |          | 0/? [00:00<?, ?it/s]"
            ]
          },
          "metadata": {},
          "output_type": "display_data"
        },
        {
          "name": "stderr",
          "output_type": "stream",
          "text": [
            "/home/asztrikx/bird-train/.venv/lib/python3.12/site-packages/pytorch_lightning/utilities/data.py:78: Trying to infer the `batch_size` from an ambiguous collection. The batch size we found is 32. To avoid any miscalculations, use `self.log(..., batch_size=batch_size)`.\n"
          ]
        },
        {
          "data": {
            "text/html": [
              "<pre style=\"white-space:pre;overflow-x:auto;line-height:normal;font-family:Menlo,'DejaVu Sans Mono',consolas,'Courier New',monospace\">┏━━━━━━━━━━━━━━━━━━━━━━━━━━━┳━━━━━━━━━━━━━━━━━━━━━━━━━━━┓\n",
              "┃<span style=\"font-weight: bold\">        Test metric        </span>┃<span style=\"font-weight: bold\">       DataLoader 0        </span>┃\n",
              "┡━━━━━━━━━━━━━━━━━━━━━━━━━━━╇━━━━━━━━━━━━━━━━━━━━━━━━━━━┩\n",
              "│<span style=\"color: #008080; text-decoration-color: #008080\">         test_acc          </span>│<span style=\"color: #800080; text-decoration-color: #800080\">    0.4321075975894928     </span>│\n",
              "│<span style=\"color: #008080; text-decoration-color: #008080\">         test_loss         </span>│<span style=\"color: #800080; text-decoration-color: #800080\">     3.130643367767334     </span>│\n",
              "└───────────────────────────┴───────────────────────────┘\n",
              "</pre>\n"
            ],
            "text/plain": [
              "┏━━━━━━━━━━━━━━━━━━━━━━━━━━━┳━━━━━━━━━━━━━━━━━━━━━━━━━━━┓\n",
              "┃\u001b[1m \u001b[0m\u001b[1m       Test metric       \u001b[0m\u001b[1m \u001b[0m┃\u001b[1m \u001b[0m\u001b[1m      DataLoader 0       \u001b[0m\u001b[1m \u001b[0m┃\n",
              "┡━━━━━━━━━━━━━━━━━━━━━━━━━━━╇━━━━━━━━━━━━━━━━━━━━━━━━━━━┩\n",
              "│\u001b[36m \u001b[0m\u001b[36m        test_acc         \u001b[0m\u001b[36m \u001b[0m│\u001b[35m \u001b[0m\u001b[35m   0.4321075975894928    \u001b[0m\u001b[35m \u001b[0m│\n",
              "│\u001b[36m \u001b[0m\u001b[36m        test_loss        \u001b[0m\u001b[36m \u001b[0m│\u001b[35m \u001b[0m\u001b[35m    3.130643367767334    \u001b[0m\u001b[35m \u001b[0m│\n",
              "└───────────────────────────┴───────────────────────────┘\n"
            ]
          },
          "metadata": {},
          "output_type": "display_data"
        },
        {
          "data": {
            "text/html": [
              "<style>\n",
              "    table.wandb td:nth-child(1) { padding: 0 10px; text-align: left ; width: auto;} td:nth-child(2) {text-align: left ; width: 100%}\n",
              "    .wandb-row { display: flex; flex-direction: row; flex-wrap: wrap; justify-content: flex-start; width: 100% }\n",
              "    .wandb-col { display: flex; flex-direction: column; flex-basis: 100%; flex: 1; padding: 10px; }\n",
              "    </style>\n",
              "<div class=\"wandb-row\"><div class=\"wandb-col\"><h3>Run history:</h3><br/><table class=\"wandb\"><tr><td>epoch</td><td>▁▁▁▁▁▂▂▂▂▃▃▄▄▄▄▄▄▅▅▅▅▅▅▅▆▆▆▆▆▆▇▇▇▇▇█████</td></tr><tr><td>test_acc</td><td>▁</td></tr><tr><td>test_loss</td><td>▁</td></tr><tr><td>train_acc_epoch</td><td>▁▃▅▅▆▆▆▇▇▇▇▇▇▇▇▇▇████████████████████</td></tr><tr><td>train_acc_step</td><td>▁▃▄▃▄▆▆▆▇▆▆▆▇▇▇▆▇▇▇▇▇█▇▇▆█▇▇▇▇▇▇▇█▇▇▇▇█▇</td></tr><tr><td>train_loss_epoch</td><td>█▅▄▃▃▃▂▂▂▂▂▂▂▂▂▁▁▁▁▁▁▁▁▁▁▁▁▁▁▁▁▁▁▁▁▁▁</td></tr><tr><td>train_loss_step</td><td>█▅▄▃▃▃▃▃▂▃▂▃▂▂▂▂▂▂▂▂▂▂▂▂▂▂▂▂▂▂▂▁▁▁▂▂▂▂▁▁</td></tr><tr><td>trainer/global_step</td><td>▁▁▁▂▂▂▂▂▃▃▃▃▃▃▃▄▄▄▄▅▅▅▅▅▅▅▆▆▆▆▆▆▇▇▇▇▇▇██</td></tr><tr><td>val_acc</td><td>▁▃▄▆▇▇▇▇▇▇▇▇▇▇▇▇▇▇▇█▇▇▇▇▇████▇▇█████▇</td></tr><tr><td>val_loss</td><td>█▅▅▃▂▂▂▂▂▂▂▂▂▂▂▂▂▂▂▂▂▂▂▂▂▁▁▁▁▂▂▁▁▁▂▁▂</td></tr></table><br/></div><div class=\"wandb-col\"><h3>Run summary:</h3><br/><table class=\"wandb\"><tr><td>epoch</td><td>37</td></tr><tr><td>test_acc</td><td>0.43211</td></tr><tr><td>test_loss</td><td>3.13064</td></tr><tr><td>train_acc_epoch</td><td>0.65159</td></tr><tr><td>train_acc_step</td><td>0.62109</td></tr><tr><td>train_loss_epoch</td><td>2.22415</td></tr><tr><td>train_loss_step</td><td>2.27653</td></tr><tr><td>trainer/global_step</td><td>17501</td></tr><tr><td>val_acc</td><td>0.40695</td></tr><tr><td>val_loss</td><td>3.21049</td></tr></table><br/></div></div>"
            ],
            "text/plain": [
              "<IPython.core.display.HTML object>"
            ]
          },
          "metadata": {},
          "output_type": "display_data"
        },
        {
          "data": {
            "text/html": [
              " View run <strong style=\"color:#cdcd00\">fine-wind-38</strong> at: <a href='https://wandb.ai/chirpai/bme-classification-bird_sounds/runs/u580ixno' target=\"_blank\">https://wandb.ai/chirpai/bme-classification-bird_sounds/runs/u580ixno</a><br/> View project at: <a href='https://wandb.ai/chirpai/bme-classification-bird_sounds' target=\"_blank\">https://wandb.ai/chirpai/bme-classification-bird_sounds</a><br/>Synced 5 W&B file(s), 0 media file(s), 2 artifact file(s) and 0 other file(s)"
            ],
            "text/plain": [
              "<IPython.core.display.HTML object>"
            ]
          },
          "metadata": {},
          "output_type": "display_data"
        },
        {
          "data": {
            "text/html": [
              "Find logs at: <code>./wandb/run-20250415_201453-u580ixno/logs</code>"
            ],
            "text/plain": [
              "<IPython.core.display.HTML object>"
            ]
          },
          "metadata": {},
          "output_type": "display_data"
        }
      ],
      "source": [
        "def get_cnn(config=None):\n",
        "\tmodel_name = \"cnn4\"\n",
        "\tif os.path.isfile(f\"models/{model_name}.ckpt\"):\n",
        "\t\tmodel = CNN.load_from_checkpoint(f\"models/{model_name}.ckpt\", batch_size=batch_size)\n",
        "\t\tmodel = train_cnn(config)\n",
        "\t\t\t# https://lightning.ai/docs/pytorch/latest/common/lightning_module.html#load-from-checkpoint\n",
        "\telse:\n",
        "\t\tmodel = train_cnn(config)\n",
        "\n",
        "\tmodel.eval()\n",
        "\treturn model\n",
        "\n",
        "wandb.finish()\n",
        "cnn = get_cnn()"
      ]
    },
    {
      "cell_type": "markdown",
      "id": "f8ad364a",
      "metadata": {
        "id": "f8ad364a"
      },
      "source": [
        "## Model"
      ]
    },
    {
      "cell_type": "code",
      "execution_count": 41,
      "id": "f1f305f8",
      "metadata": {
        "id": "f1f305f8"
      },
      "outputs": [],
      "source": [
        "val_size = 0.1\n",
        "test_size = 0.2\n",
        "epochs = 20\n",
        "# batch_size = 1024+128*3  # TODO: Why was the batch size this huge? 16-32-64, maximum 500 was the largest I saw so far, ever\n",
        "batch_size = 64\n",
        "\n",
        "num_classes = pd.read_csv(\"data/train_metadata_updated.csv\")[\"primary_label\"].nunique()"
      ]
    },
    {
      "cell_type": "markdown",
      "id": "405b9918",
      "metadata": {
        "id": "405b9918"
      },
      "source": [
        "### Define model"
      ]
    },
    {
      "cell_type": "code",
      "execution_count": 42,
      "id": "057ff853",
      "metadata": {
        "id": "057ff853"
      },
      "outputs": [],
      "source": [
        "class BirdSoundsNet(pl.LightningModule):\n",
        "    def __init__(self, base_model, head_model, num_classes, learning_rate=1e-3, weight_decay=1e-4, warmup_epochs=3):\n",
        "        super().__init__()\n",
        "        self.base_model = base_model\n",
        "        self.head_model = head_model\n",
        "        self.model = nn.Sequential(self.base_model, self.head_model)\n",
        "\n",
        "        self.learning_rate = learning_rate\n",
        "        self.weight_decay = weight_decay\n",
        "        self.warmup_epochs = warmup_epochs\n",
        "        self.base_model_frozen = True\n",
        "\n",
        "        # Freeze base model initially\n",
        "        for param in self.base_model.parameters():\n",
        "            param.requires_grad = False\n",
        "\n",
        "        self.accuracy = torchmetrics.Accuracy(task=\"multiclass\", num_classes=num_classes)\n",
        "\n",
        "    def forward(self, x):\n",
        "        return self.model(x)\n",
        "\n",
        "    def common_step(self, batch, batch_idx, train_val_test, prog_bar=False, on_epoch=None):\n",
        "        pred_labels = self(batch[0])\n",
        "        loss = F.cross_entropy(pred_labels, batch[1][\"label_id\"])\n",
        "        acc = self.accuracy(pred_labels, batch[1][\"label_id\"])\n",
        "\n",
        "        self.log(f\"{train_val_test}_loss\", loss, on_epoch=on_epoch, prog_bar=prog_bar)\n",
        "        self.log(f\"{train_val_test}_acc\", acc, on_epoch=on_epoch, prog_bar=prog_bar)\n",
        "        return loss\n",
        "\n",
        "    def training_step(self, batch, batch_idx):\n",
        "        return self.common_step(batch, batch_idx, \"train\", on_epoch=True, prog_bar=True)\n",
        "\n",
        "    def validation_step(self, batch, batch_idx):\n",
        "        return self.common_step(batch, batch_idx, \"val\", prog_bar=True)\n",
        "\n",
        "    def test_step(self, batch, batch_idx):\n",
        "        return self.common_step(batch, batch_idx, \"test\")\n",
        "\n",
        "    def on_train_epoch_start(self):\n",
        "        if self.current_epoch >= self.warmup_epochs and self.base_model_frozen:\n",
        "            print(f\"Unfreezing base model at epoch {self.current_epoch}\")\n",
        "            for param in self.base_model.parameters():\n",
        "                param.requires_grad = True\n",
        "            self.base_model_frozen = False\n",
        "\n",
        "    def configure_optimizers(self):\n",
        "        if self.base_model_frozen:\n",
        "            return torch.optim.Adam(self.parameters(), lr=self.learning_rate, weight_decay=self.weight_decay)\n",
        "\n",
        "        # Separate learning rates for base and head\n",
        "        optimizer = torch.optim.Adam([\n",
        "            {\"params\": self.base_model.parameters(), \"lr\": self.learning_rate * 0.1},\n",
        "            {\"params\": self.head_model.parameters(), \"lr\": self.learning_rate},\n",
        "        ], weight_decay=self.weight_decay)\n",
        "\n",
        "        return optimizer"
      ]
    },
    {
      "cell_type": "code",
      "execution_count": null,
      "id": "5a142e7f",
      "metadata": {
        "id": "5a142e7f"
      },
      "outputs": [],
      "source": [
        "from torchvision.models import (\n",
        "    resnet50,\n",
        "    ResNet50_Weights,\n",
        "    mobilenet_v3_large,\n",
        "    MobileNet_V3_Large_Weights,\n",
        "    efficientnet_b1,\n",
        "    EfficientNet_B1_Weights\n",
        ")\n",
        "\n",
        "def train_model(config=None):\n",
        "    model_name = \"finetune\"\n",
        "    if config is None:\n",
        "        config = {\n",
        "          \"learning_rate\": 1e-4,\n",
        "          \"weight_decay\": 1e-5,\n",
        "          \"base_model\": \"efficientnet_b1\",\n",
        "          \"freeze_base_model\": False,  # not needed anymore\n",
        "          \"dropout\": 0.3,\n",
        "          \"hidden_layers\": 2,\n",
        "          \"warmup_epochs\": 3\n",
        "        }\n",
        "\n",
        "\n",
        "    with wandb.init(config=config, project=PROJECT_NAME):\n",
        "        config = wandb.config\n",
        "        wandb_logger = WandbLogger(log_model=True)\n",
        "        wandb_logger.log_hyperparams(config)\n",
        "        print(f\"\\nConfig to be used: {config}\\n\")\n",
        "        base_model_name = config[\"base_model\"]\n",
        "        # Define base model according to config\n",
        "        if base_model_name == \"resnet50\":\n",
        "            weights = ResNet50_Weights.IMAGENET1K_V1\n",
        "            base_model = resnet50(weights=weights)\n",
        "            preprocess = weights.transforms()\n",
        "\n",
        "            # Get the output size before removing the head\n",
        "            base_model_out_size = base_model.fc.in_features\n",
        "            base_model.fc = nn.Identity()\n",
        "\n",
        "        elif base_model_name == \"mobilenet_v3_large\":\n",
        "            weights = MobileNet_V3_Large_Weights.IMAGENET1K_V1\n",
        "            base_model = mobilenet_v3_large(weights=weights)\n",
        "            preprocess = weights.transforms()\n",
        "\n",
        "            # Get the output size before removing the head\n",
        "            base_model_out_size = base_model.classifier[-1].in_features\n",
        "            base_model.classifier = nn.Identity()\n",
        "\n",
        "        elif base_model_name == \"efficientnet_b1\":\n",
        "            weights = EfficientNet_B1_Weights.IMAGENET1K_V1\n",
        "            base_model = efficientnet_b1(weights=weights)\n",
        "            preprocess = weights.transforms()\n",
        "\n",
        "            # Get the output size before removing the head\n",
        "            base_model_out_size = base_model.classifier[-1].in_features\n",
        "            base_model.classifier = nn.Identity()\n",
        "\n",
        "        else:\n",
        "            raise ValueError(f\"Unknown base model: {base_model_name}\")\n",
        "\n",
        "        # Load spectrogram metadata\n",
        "        birds_dm = BirdsDataModule(spectrogram_metadata_path, batch_size, preprocess)\n",
        "\n",
        "        # Define head model according to config\n",
        "        #head_model = nn.Sequential()\n",
        "        #base_model_out_size = base_model.fc.out_features if base_model_name == \"resnet50\" else base_model.classifier[-1].out_features\n",
        "\n",
        "        # Add connect layer to head model\n",
        "        #current_hidden_size = 2000\n",
        "        #dropout = config[\"dropout\"]\n",
        "        #head_model.add_module(f\"layer_connect\", nn.Linear(base_model_out_size, current_hidden_size))\n",
        "        #head_model.add_module(f\"relu_connect\", nn.ReLU())\n",
        "        #head_model.add_module(f\"dropout_connect\", nn.Dropout(dropout))\n",
        "\n",
        "        # Add hidden layers to head model\n",
        "        #for layer in range(config[\"hidden_layers\"]):\n",
        "           # head_model.add_module(f\"hidden_layer_{layer}\", nn.Linear(current_hidden_size, current_hidden_size // 2))\n",
        "          #  current_hidden_size = current_hidden_size // 2\n",
        "         #   head_model.add_module(f\"hidden_relu_{layer}\", nn.ReLU())\n",
        "        #    head_model.add_module(f\"hidden_dropout_{layer}\", nn.Dropout(dropout))\n",
        "\n",
        "        # Add final layer to head model\n",
        "        #head_model.add_module(f\"layer_final\", nn.Linear(current_hidden_size, num_classes))\n",
        "        head_model = nn.Sequential(\n",
        "              nn.Linear(base_model_out_size, 1024),\n",
        "              nn.BatchNorm1d(1024),\n",
        "              nn.ReLU(),\n",
        "              nn.Dropout(0.3),\n",
        "              nn.Linear(1024, num_classes)\n",
        "          )\n",
        "\n",
        "\n",
        "        # Instantiate model\n",
        "        model = BirdSoundsNet(\n",
        "            base_model=base_model,\n",
        "            head_model=head_model,\n",
        "            num_classes=num_classes,\n",
        "            learning_rate=config[\"learning_rate\"],\n",
        "            weight_decay=config[\"weight_decay\"],\n",
        "            warmup_epochs=config.get(\"warmup_epochs\", 3),  # Default: 3\n",
        "        )\n",
        "\n",
        "        # Register checkpointing and early stopping callbacks\n",
        "        checkpoint_callback = pl.callbacks.ModelCheckpoint(\n",
        "            monitor=\"val_acc\",\n",
        "            save_top_k=1,\n",
        "            mode=\"max\",\n",
        "            dirpath='./models/',\n",
        "            filename=f\"{model_name}_{config[\"hidden_layers\"]}_{config[\"dropout\"]}_{config[\"learning_rate\"]}_{config[\"weight_decay\"]}_{config[\"freeze_base_model\"]}_{config[\"base_model\"]}_{config.get(\"warmup_epochs\", 3)}\",\n",
        "        )\n",
        "        early_stop_callback = pl.callbacks.EarlyStopping(\n",
        "            monitor=\"val_acc\",\n",
        "            patience=3,\n",
        "            verbose=False,\n",
        "            mode=\"max\",\n",
        "        )\n",
        "\n",
        "        trainer = pl.Trainer(\n",
        "            max_epochs=epochs,\n",
        "            callbacks=[checkpoint_callback, early_stop_callback],\n",
        "            logger = wandb_logger,\n",
        "            # Sanity check overruns max memory\n",
        "            num_sanity_val_steps=0,\n",
        "            log_every_n_steps=50,\n",
        "            accelerator=device,\n",
        "            devices=1,\n",
        "            #precision=\"16-mixed\",\n",
        "                # 32 biten tárolva, de a lényeges számítások 16 biten\n",
        "        )\n",
        "\n",
        "        # Train the model\n",
        "        trainer.fit(model, datamodule=birds_dm)\n",
        "        trainer.test(model, datamodule=birds_dm)\n",
        "\n",
        "        return model"
      ]
    },
    {
      "cell_type": "markdown",
      "id": "fed70502",
      "metadata": {
        "id": "fed70502"
      },
      "source": [
        "### Train without or without `Wandb` sweeps"
      ]
    },
    {
      "cell_type": "code",
      "execution_count": 26,
      "id": "3b9f35d3",
      "metadata": {
        "colab": {
          "base_uri": "https://localhost:8080/",
          "height": 1000
        },
        "id": "3b9f35d3",
        "outputId": "90abf495-9743-4460-d6f3-974c55289887"
      },
      "outputs": [
        {
          "data": {
            "text/html": [
              "Tracking run with wandb version 0.19.9"
            ],
            "text/plain": [
              "<IPython.core.display.HTML object>"
            ]
          },
          "metadata": {},
          "output_type": "display_data"
        },
        {
          "data": {
            "text/html": [
              "Run data is saved locally in <code>/content/wandb/run-20250410_195117-w4travgr</code>"
            ],
            "text/plain": [
              "<IPython.core.display.HTML object>"
            ]
          },
          "metadata": {},
          "output_type": "display_data"
        },
        {
          "data": {
            "text/html": [
              "Syncing run <strong><a href='https://wandb.ai/horvath-szilard-budapesti-m-szaki-s-gazdas-gtudom-nyi-eg/bme-classification-bird_sounds/runs/w4travgr' target=\"_blank\">stoic-gorge-46</a></strong> to <a href='https://wandb.ai/horvath-szilard-budapesti-m-szaki-s-gazdas-gtudom-nyi-eg/bme-classification-bird_sounds' target=\"_blank\">Weights & Biases</a> (<a href='https://wandb.me/developer-guide' target=\"_blank\">docs</a>)<br>"
            ],
            "text/plain": [
              "<IPython.core.display.HTML object>"
            ]
          },
          "metadata": {},
          "output_type": "display_data"
        },
        {
          "data": {
            "text/html": [
              " View project at <a href='https://wandb.ai/horvath-szilard-budapesti-m-szaki-s-gazdas-gtudom-nyi-eg/bme-classification-bird_sounds' target=\"_blank\">https://wandb.ai/horvath-szilard-budapesti-m-szaki-s-gazdas-gtudom-nyi-eg/bme-classification-bird_sounds</a>"
            ],
            "text/plain": [
              "<IPython.core.display.HTML object>"
            ]
          },
          "metadata": {},
          "output_type": "display_data"
        },
        {
          "data": {
            "text/html": [
              " View run at <a href='https://wandb.ai/horvath-szilard-budapesti-m-szaki-s-gazdas-gtudom-nyi-eg/bme-classification-bird_sounds/runs/w4travgr' target=\"_blank\">https://wandb.ai/horvath-szilard-budapesti-m-szaki-s-gazdas-gtudom-nyi-eg/bme-classification-bird_sounds/runs/w4travgr</a>"
            ],
            "text/plain": [
              "<IPython.core.display.HTML object>"
            ]
          },
          "metadata": {},
          "output_type": "display_data"
        },
        {
          "name": "stderr",
          "output_type": "stream",
          "text": [
            "/usr/local/lib/python3.11/dist-packages/pytorch_lightning/loggers/wandb.py:397: There is a wandb run already in progress and newly created instances of `WandbLogger` will reuse this run. If this is not desired, call `wandb.finish()` before instantiating `WandbLogger`.\n"
          ]
        },
        {
          "name": "stdout",
          "output_type": "stream",
          "text": [
            "\n",
            "Config to be used: {'learning_rate': 0.0001, 'weight_decay': 1e-05, 'base_model': 'efficientnet_b1', 'freeze_base_model': False, 'dropout': 0.3, 'hidden_layers': 2, 'warmup_epochs': 3}\n",
            "\n"
          ]
        },
        {
          "name": "stderr",
          "output_type": "stream",
          "text": [
            "INFO:pytorch_lightning.utilities.rank_zero:Using 16bit Automatic Mixed Precision (AMP)\n",
            "INFO:pytorch_lightning.utilities.rank_zero:GPU available: True (cuda), used: True\n",
            "INFO:pytorch_lightning.utilities.rank_zero:TPU available: False, using: 0 TPU cores\n",
            "INFO:pytorch_lightning.utilities.rank_zero:HPU available: False, using: 0 HPUs\n",
            "/usr/local/lib/python3.11/dist-packages/pytorch_lightning/callbacks/model_checkpoint.py:654: Checkpoint directory /content/models exists and is not empty.\n",
            "INFO:pytorch_lightning.accelerators.cuda:LOCAL_RANK: 0 - CUDA_VISIBLE_DEVICES: [0]\n",
            "INFO:pytorch_lightning.callbacks.model_summary:\n",
            "  | Name       | Type               | Params | Mode \n",
            "----------------------------------------------------------\n",
            "0 | base_model | EfficientNet       | 6.5 M  | train\n",
            "1 | head_model | Sequential         | 1.5 M  | train\n",
            "2 | model      | Sequential         | 8.0 M  | train\n",
            "3 | accuracy   | MulticlassAccuracy | 0      | train\n",
            "----------------------------------------------------------\n",
            "1.5 M     Trainable params\n",
            "6.5 M     Non-trainable params\n",
            "8.0 M     Total params\n",
            "32.054    Total estimated model params size (MB)\n",
            "479       Modules in train mode\n",
            "0         Modules in eval mode\n"
          ]
        },
        {
          "data": {
            "application/vnd.jupyter.widget-view+json": {
              "model_id": "7898b01f55a34bceb3e3b040578e0917",
              "version_major": 2,
              "version_minor": 0
            },
            "text/plain": [
              "Training: |          | 0/? [00:00<?, ?it/s]"
            ]
          },
          "metadata": {},
          "output_type": "display_data"
        },
        {
          "data": {
            "application/vnd.jupyter.widget-view+json": {
              "model_id": "84c7cd0ae2e945b9ac3b854d46a7309d",
              "version_major": 2,
              "version_minor": 0
            },
            "text/plain": [
              "Validation: |          | 0/? [00:00<?, ?it/s]"
            ]
          },
          "metadata": {},
          "output_type": "display_data"
        },
        {
          "data": {
            "application/vnd.jupyter.widget-view+json": {
              "model_id": "9f5f8b1c12e446f1a5ff787b580d2407",
              "version_major": 2,
              "version_minor": 0
            },
            "text/plain": [
              "Validation: |          | 0/? [00:00<?, ?it/s]"
            ]
          },
          "metadata": {},
          "output_type": "display_data"
        },
        {
          "data": {
            "application/vnd.jupyter.widget-view+json": {
              "model_id": "6a317caa612343dc8fc9bef1648a65d8",
              "version_major": 2,
              "version_minor": 0
            },
            "text/plain": [
              "Validation: |          | 0/? [00:00<?, ?it/s]"
            ]
          },
          "metadata": {},
          "output_type": "display_data"
        },
        {
          "name": "stdout",
          "output_type": "stream",
          "text": [
            "Unfreezing base model at epoch 3\n"
          ]
        },
        {
          "data": {
            "application/vnd.jupyter.widget-view+json": {
              "model_id": "9e18cc4f09fc46db90591ad4a77c0efd",
              "version_major": 2,
              "version_minor": 0
            },
            "text/plain": [
              "Validation: |          | 0/? [00:00<?, ?it/s]"
            ]
          },
          "metadata": {},
          "output_type": "display_data"
        },
        {
          "data": {
            "application/vnd.jupyter.widget-view+json": {
              "model_id": "dbceb334552548ed89eabcac7af764a0",
              "version_major": 2,
              "version_minor": 0
            },
            "text/plain": [
              "Validation: |          | 0/? [00:00<?, ?it/s]"
            ]
          },
          "metadata": {},
          "output_type": "display_data"
        },
        {
          "data": {
            "application/vnd.jupyter.widget-view+json": {
              "model_id": "edac124fb4db41418f145dce76c5c27a",
              "version_major": 2,
              "version_minor": 0
            },
            "text/plain": [
              "Validation: |          | 0/? [00:00<?, ?it/s]"
            ]
          },
          "metadata": {},
          "output_type": "display_data"
        },
        {
          "data": {
            "application/vnd.jupyter.widget-view+json": {
              "model_id": "fedb6d1bb8b04c7f81578f77af475a33",
              "version_major": 2,
              "version_minor": 0
            },
            "text/plain": [
              "Validation: |          | 0/? [00:00<?, ?it/s]"
            ]
          },
          "metadata": {},
          "output_type": "display_data"
        },
        {
          "data": {
            "application/vnd.jupyter.widget-view+json": {
              "model_id": "4adcc63b943d4827989a4f40db70fcad",
              "version_major": 2,
              "version_minor": 0
            },
            "text/plain": [
              "Validation: |          | 0/? [00:00<?, ?it/s]"
            ]
          },
          "metadata": {},
          "output_type": "display_data"
        },
        {
          "data": {
            "application/vnd.jupyter.widget-view+json": {
              "model_id": "20855533b20e43d7924f74b08ca0421c",
              "version_major": 2,
              "version_minor": 0
            },
            "text/plain": [
              "Validation: |          | 0/? [00:00<?, ?it/s]"
            ]
          },
          "metadata": {},
          "output_type": "display_data"
        },
        {
          "data": {
            "application/vnd.jupyter.widget-view+json": {
              "model_id": "aca38a90e03647b89d43a20aa9a4ba2f",
              "version_major": 2,
              "version_minor": 0
            },
            "text/plain": [
              "Validation: |          | 0/? [00:00<?, ?it/s]"
            ]
          },
          "metadata": {},
          "output_type": "display_data"
        },
        {
          "data": {
            "application/vnd.jupyter.widget-view+json": {
              "model_id": "6f34722bc37a441b8c91262413397b0b",
              "version_major": 2,
              "version_minor": 0
            },
            "text/plain": [
              "Validation: |          | 0/? [00:00<?, ?it/s]"
            ]
          },
          "metadata": {},
          "output_type": "display_data"
        },
        {
          "data": {
            "application/vnd.jupyter.widget-view+json": {
              "model_id": "71fc6a113c694f5eb1f4a5393cbc47d8",
              "version_major": 2,
              "version_minor": 0
            },
            "text/plain": [
              "Validation: |          | 0/? [00:00<?, ?it/s]"
            ]
          },
          "metadata": {},
          "output_type": "display_data"
        },
        {
          "data": {
            "application/vnd.jupyter.widget-view+json": {
              "model_id": "76d7770c78414e62ac76b2374bb8b839",
              "version_major": 2,
              "version_minor": 0
            },
            "text/plain": [
              "Validation: |          | 0/? [00:00<?, ?it/s]"
            ]
          },
          "metadata": {},
          "output_type": "display_data"
        },
        {
          "data": {
            "application/vnd.jupyter.widget-view+json": {
              "model_id": "3807ef2ae2764707add574dfa1a39c6c",
              "version_major": 2,
              "version_minor": 0
            },
            "text/plain": [
              "Validation: |          | 0/? [00:00<?, ?it/s]"
            ]
          },
          "metadata": {},
          "output_type": "display_data"
        },
        {
          "data": {
            "application/vnd.jupyter.widget-view+json": {
              "model_id": "53f0e38f57e64a8388e5ff57ce04aa65",
              "version_major": 2,
              "version_minor": 0
            },
            "text/plain": [
              "Validation: |          | 0/? [00:00<?, ?it/s]"
            ]
          },
          "metadata": {},
          "output_type": "display_data"
        },
        {
          "data": {
            "application/vnd.jupyter.widget-view+json": {
              "model_id": "e32e8d1fba2c4f72b50110cc77e528fe",
              "version_major": 2,
              "version_minor": 0
            },
            "text/plain": [
              "Validation: |          | 0/? [00:00<?, ?it/s]"
            ]
          },
          "metadata": {},
          "output_type": "display_data"
        },
        {
          "data": {
            "application/vnd.jupyter.widget-view+json": {
              "model_id": "9ca6917cd0184a2385bef370d12036a5",
              "version_major": 2,
              "version_minor": 0
            },
            "text/plain": [
              "Validation: |          | 0/? [00:00<?, ?it/s]"
            ]
          },
          "metadata": {},
          "output_type": "display_data"
        },
        {
          "data": {
            "application/vnd.jupyter.widget-view+json": {
              "model_id": "e90564f5c57047dca2054f4308a3cda4",
              "version_major": 2,
              "version_minor": 0
            },
            "text/plain": [
              "Validation: |          | 0/? [00:00<?, ?it/s]"
            ]
          },
          "metadata": {},
          "output_type": "display_data"
        },
        {
          "data": {
            "application/vnd.jupyter.widget-view+json": {
              "model_id": "ec5114541c8f4122ab6186e690998ec8",
              "version_major": 2,
              "version_minor": 0
            },
            "text/plain": [
              "Validation: |          | 0/? [00:00<?, ?it/s]"
            ]
          },
          "metadata": {},
          "output_type": "display_data"
        },
        {
          "name": "stderr",
          "output_type": "stream",
          "text": [
            "INFO:pytorch_lightning.accelerators.cuda:LOCAL_RANK: 0 - CUDA_VISIBLE_DEVICES: [0]\n"
          ]
        },
        {
          "data": {
            "application/vnd.jupyter.widget-view+json": {
              "model_id": "497e9e0f6a914e84804f54e5f98b8461",
              "version_major": 2,
              "version_minor": 0
            },
            "text/plain": [
              "Testing: |          | 0/? [00:00<?, ?it/s]"
            ]
          },
          "metadata": {},
          "output_type": "display_data"
        },
        {
          "data": {
            "text/html": [
              "<pre style=\"white-space:pre;overflow-x:auto;line-height:normal;font-family:Menlo,'DejaVu Sans Mono',consolas,'Courier New',monospace\">┏━━━━━━━━━━━━━━━━━━━━━━━━━━━┳━━━━━━━━━━━━━━━━━━━━━━━━━━━┓\n",
              "┃<span style=\"font-weight: bold\">        Test metric        </span>┃<span style=\"font-weight: bold\">       DataLoader 0        </span>┃\n",
              "┡━━━━━━━━━━━━━━━━━━━━━━━━━━━╇━━━━━━━━━━━━━━━━━━━━━━━━━━━┩\n",
              "│<span style=\"color: #008080; text-decoration-color: #008080\">         test_acc          </span>│<span style=\"color: #800080; text-decoration-color: #800080\">    0.5810264945030212     </span>│\n",
              "│<span style=\"color: #008080; text-decoration-color: #008080\">         test_loss         </span>│<span style=\"color: #800080; text-decoration-color: #800080\">     2.493861198425293     </span>│\n",
              "└───────────────────────────┴───────────────────────────┘\n",
              "</pre>\n"
            ],
            "text/plain": [
              "┏━━━━━━━━━━━━━━━━━━━━━━━━━━━┳━━━━━━━━━━━━━━━━━━━━━━━━━━━┓\n",
              "┃\u001b[1m \u001b[0m\u001b[1m       Test metric       \u001b[0m\u001b[1m \u001b[0m┃\u001b[1m \u001b[0m\u001b[1m      DataLoader 0       \u001b[0m\u001b[1m \u001b[0m┃\n",
              "┡━━━━━━━━━━━━━━━━━━━━━━━━━━━╇━━━━━━━━━━━━━━━━━━━━━━━━━━━┩\n",
              "│\u001b[36m \u001b[0m\u001b[36m        test_acc         \u001b[0m\u001b[36m \u001b[0m│\u001b[35m \u001b[0m\u001b[35m   0.5810264945030212    \u001b[0m\u001b[35m \u001b[0m│\n",
              "│\u001b[36m \u001b[0m\u001b[36m        test_loss        \u001b[0m\u001b[36m \u001b[0m│\u001b[35m \u001b[0m\u001b[35m    2.493861198425293    \u001b[0m\u001b[35m \u001b[0m│\n",
              "└───────────────────────────┴───────────────────────────┘\n"
            ]
          },
          "metadata": {},
          "output_type": "display_data"
        },
        {
          "data": {
            "text/html": [],
            "text/plain": [
              "<IPython.core.display.HTML object>"
            ]
          },
          "metadata": {},
          "output_type": "display_data"
        },
        {
          "data": {
            "text/html": [
              "<br>    <style><br>        .wandb-row {<br>            display: flex;<br>            flex-direction: row;<br>            flex-wrap: wrap;<br>            justify-content: flex-start;<br>            width: 100%;<br>        }<br>        .wandb-col {<br>            display: flex;<br>            flex-direction: column;<br>            flex-basis: 100%;<br>            flex: 1;<br>            padding: 10px;<br>        }<br>    </style><br><div class=\"wandb-row\"><div class=\"wandb-col\"><h3>Run history:</h3><br/><table class=\"wandb\"><tr><td>epoch</td><td>▁▁▁▁▁▂▂▂▃▃▃▃▃▃▃▄▄▄▄▄▅▅▅▅▆▆▆▆▆▆▇▇▇▇▇▇████</td></tr><tr><td>test_acc</td><td>▁</td></tr><tr><td>test_loss</td><td>▁</td></tr><tr><td>train_acc_epoch</td><td>▁▂▂▄▅▆▇▇███████████</td></tr><tr><td>train_acc_step</td><td>▁▂▂▃▅▅▆▆▆▆▆▇▇▇▇▇▇███▇▇██▇▇█▇████████████</td></tr><tr><td>train_loss_epoch</td><td>█▇▆▅▃▃▂▂▁▁▁▁▁▁▁▁▁▁▁</td></tr><tr><td>train_loss_step</td><td>█▇▆▇▆▆▅▅▅▄▂▂▂▂▂▂▂▁▁▂▁▁▁▁▁▁▁▁▁▁▁▁▁▁▁▁▁▁▁▁</td></tr><tr><td>trainer/global_step</td><td>▁▁▁▁▁▂▂▂▂▂▂▂▂▃▃▃▃▄▄▄▅▅▅▅▅▆▆▆▆▆▆▆▇▇▇▇▇▇██</td></tr><tr><td>val_acc</td><td>▁▂▂▆▇▇█████████████</td></tr><tr><td>val_loss</td><td>█▇▇▂▁▁▁▁▁▁▂▂▂▂▂▂▃▃▃</td></tr></table><br/></div><div class=\"wandb-col\"><h3>Run summary:</h3><br/><table class=\"wandb\"><tr><td>epoch</td><td>19</td></tr><tr><td>test_acc</td><td>0.58103</td></tr><tr><td>test_loss</td><td>2.49386</td></tr><tr><td>train_acc_epoch</td><td>0.98672</td></tr><tr><td>train_acc_step</td><td>0.96875</td></tr><tr><td>train_loss_epoch</td><td>0.0527</td></tr><tr><td>train_loss_step</td><td>0.06535</td></tr><tr><td>trainer/global_step</td><td>15713</td></tr><tr><td>val_acc</td><td>0.57891</td></tr><tr><td>val_loss</td><td>2.49592</td></tr></table><br/></div></div>"
            ],
            "text/plain": [
              "<IPython.core.display.HTML object>"
            ]
          },
          "metadata": {},
          "output_type": "display_data"
        },
        {
          "data": {
            "text/html": [
              " View run <strong style=\"color:#cdcd00\">stoic-gorge-46</strong> at: <a href='https://wandb.ai/horvath-szilard-budapesti-m-szaki-s-gazdas-gtudom-nyi-eg/bme-classification-bird_sounds/runs/w4travgr' target=\"_blank\">https://wandb.ai/horvath-szilard-budapesti-m-szaki-s-gazdas-gtudom-nyi-eg/bme-classification-bird_sounds/runs/w4travgr</a><br> View project at: <a href='https://wandb.ai/horvath-szilard-budapesti-m-szaki-s-gazdas-gtudom-nyi-eg/bme-classification-bird_sounds' target=\"_blank\">https://wandb.ai/horvath-szilard-budapesti-m-szaki-s-gazdas-gtudom-nyi-eg/bme-classification-bird_sounds</a><br>Synced 5 W&B file(s), 0 media file(s), 2 artifact file(s) and 0 other file(s)"
            ],
            "text/plain": [
              "<IPython.core.display.HTML object>"
            ]
          },
          "metadata": {},
          "output_type": "display_data"
        },
        {
          "data": {
            "text/html": [
              "Find logs at: <code>./wandb/run-20250410_195117-w4travgr/logs</code>"
            ],
            "text/plain": [
              "<IPython.core.display.HTML object>"
            ]
          },
          "metadata": {},
          "output_type": "display_data"
        }
      ],
      "source": [
        "def get_model(config=None):\n",
        "\tmodel_name = \"finetune3\"\n",
        "\tif os.path.isfile(f\"models/{model_name}.ckpt\"):\n",
        "\t\tmodel = BirdSoundsNet.load_from_checkpoint(f\"models/{model_name}.ckpt\", batch_size=batch_size)\n",
        "\t\t\t# https://lightning.ai/docs/pytorch/latest/common/lightning_module.html#load-from-checkpoint\n",
        "\telse:\n",
        "\t\twandb.finish()\n",
        "\t\tif True:\n",
        "\t\t\tmodel = train_model(config)\n",
        "\t\telse:\n",
        "\t\t\tsweep_config = {\n",
        "\t\t\t\t'method': 'random',  # TODO: should try 'bayesian' or 'grid'\n",
        "\t\t\t\t'metric': {\n",
        "\t\t\t\t\t'name': 'val_acc',\n",
        "\t\t\t\t\t'goal': 'maximize'\n",
        "\t\t\t\t},\n",
        "\t\t\t\t'parameters': {\n",
        "\t\t\t\t\t'hidden_layers': {\n",
        "\t\t\t\t\t\t'values': [1, 2, 3]\n",
        "\t\t\t\t\t},\n",
        "\t\t\t\t\t'dropout': {\n",
        "\t\t\t\t\t\t'values': [0.1, 0.3, 0.5]\n",
        "\t\t\t\t\t},\n",
        "\t\t\t\t\t'learning_rate': {\n",
        "\t\t\t\t\t\t'values': [1e-3, 1e-4]\n",
        "\t\t\t\t\t},\n",
        "\t\t\t\t\t'weight_decay': {\n",
        "\t\t\t\t\t\t'values': [0, 1e-4, 1e-5]\n",
        "\t\t\t\t\t},\n",
        "\t\t\t\t\t'freeze_base_model': {\n",
        "\t\t\t\t\t\t'values': [True]\n",
        "\t\t\t\t\t},\n",
        "\t\t\t\t\t'base_model': {\n",
        "\t\t\t\t\t\t'values': ['resnet50', 'mobilenet_v3_large', 'efficientnet_b1']\n",
        "\t\t\t\t\t}\n",
        "\t\t\t\t}\n",
        "\t\t\t}\n",
        "\t\t\tsweep_id = wandb.sweep(sweep_config, project=PROJECT_NAME)\n",
        "\t\t\twandb.agent(sweep_id, train_model, count=10)\n",
        "\t\twandb.finish()\n",
        "\n",
        "\tmodel.eval()\n",
        "\treturn model\n",
        "\n",
        "model = get_model()"
      ]
    },
    {
      "cell_type": "markdown",
      "id": "1157a462",
      "metadata": {
        "id": "1157a462"
      },
      "source": [
        "## Final application (`Gradio`)"
      ]
    },
    {
      "cell_type": "code",
      "execution_count": null,
      "id": "698f209f",
      "metadata": {
        "id": "698f209f"
      },
      "outputs": [],
      "source": [
        "# Parameters\n",
        "SEGMENT_LENGTH = 3\n",
        "\n",
        "base_model = efficientnet_b1(weights=EfficientNet_B1_Weights.IMAGENET1K_V1)\n",
        "preprocess = EfficientNet_B1_Weights.IMAGENET1K_V1.transforms()\n",
        "\n",
        "# Instantiate dummy model (TODO: replace with fully trained one)\n",
        "model = BirdSoundsNet(\n",
        "    base_model=base_model,\n",
        "    head_model=nn.Linear(base_model.classifier[-1].out_features, num_classes),\n",
        "    num_classes=num_classes,\n",
        "    learning_rate=1e-4,\n",
        "    weight_decay=1e-4,\n",
        "    freeze_base_model=True,\n",
        ")\n",
        "model = model.to(device)"
      ]
    },
    {
      "cell_type": "markdown",
      "id": "91b4e469",
      "metadata": {
        "id": "91b4e469"
      },
      "source": [
        "### Utility functions to help with prediction and visualization"
      ]
    },
    {
      "cell_type": "code",
      "execution_count": null,
      "id": "33ad11ab",
      "metadata": {
        "id": "33ad11ab"
      },
      "outputs": [],
      "source": [
        "def label_id_to_label(label_id):\n",
        "    \"\"\"Convert label id to label name.\"\"\"\n",
        "    if label_id is None:\n",
        "        return None\n",
        "    try:\n",
        "        return label_encoder.inverse_transform([label_id])[0]\n",
        "    except ValueError:\n",
        "        return \"Unknown\"\n",
        "\n",
        "def get_nth_predicted_class(predicted_classes, n):\n",
        "    \"\"\"Return the nth predicted class and its ratio in light of all the input audio segments.\"\"\"\n",
        "    if n >= len(predicted_classes):\n",
        "        return {\"class\": None, \"ratio\": None}\n",
        "\n",
        "    counter_list = Counter(predicted_classes).most_common(3)\n",
        "    if n >= len(counter_list):\n",
        "        return {\"class\": None, \"ratio\": None}\n",
        "\n",
        "    predicted_class = counter_list[n][0]\n",
        "    predicted_class_ratio = counter_list[n][1] / len(predicted_classes)\n",
        "    return {\"class\": predicted_class, \"ratio\": predicted_class_ratio}\n",
        "\n",
        "@torch.inference_mode()\n",
        "def predict_class_from_multiple_spectrograms(spectrograms, model, preprocess):\n",
        "    \"\"\"Predict class from multiple spectrograms (e.g. from multiple audio segments from a single input audio).\"\"\"\n",
        "    model.eval()\n",
        "    predicted_classes = []\n",
        "\n",
        "    # Iterate through spectrograms\n",
        "    for spectrogram in spectrograms:\n",
        "        # Preprocess spectrogram\n",
        "        spectrogram = PIL.Image.fromarray(np.uint8(spectrogram)).convert('RGB')\n",
        "        spectrogram = transforms.functional.to_tensor(spectrogram)\n",
        "        spectrogram = preprocess(spectrogram).to(torch.float32).unsqueeze(0).to(device)\n",
        "\n",
        "        # Make prediction\n",
        "        prediction = model(spectrogram)\n",
        "        predicted_class = torch.argmax(prediction, dim=1).item()\n",
        "        predicted_classes.append(predicted_class)\n",
        "\n",
        "    return predicted_classes\n",
        "\n",
        "@torch.inference_mode()\n",
        "def predict_class(audio_path):\n",
        "    \"\"\"Predict class from a single input audio file with the 3 most common predicted classes.\"\"\"\n",
        "    # Preprocess audio file and produce spectrograms with specified parameters\n",
        "    _, spectrograms = process_sound_file(audio_path, save=False)\n",
        "\n",
        "    # Run inference with the model or mock it out\n",
        "    if model is not None:\n",
        "        predicted_classes = predict_class_from_multiple_spectrograms(spectrograms, model, preprocess)\n",
        "        prediction_1 = get_nth_predicted_class(predicted_classes, 0)\n",
        "        prediction_2 = get_nth_predicted_class(predicted_classes, 1)\n",
        "        prediction_3 = get_nth_predicted_class(predicted_classes, 2)\n",
        "    else:\n",
        "        prediction_1 = {\"class\": \"mocked_class\", \"ratio\": None}\n",
        "        prediction_2 = {\"class\": \"mocked_class\", \"ratio\": None}\n",
        "        prediction_3 = {\"class\": \"mocked_class\", \"ratio\": None}\n",
        "        predicted_classes = [\"mocked_class\"] * len(spectrograms)\n",
        "\n",
        "    # Normalize for Gradio (necessary, only accepts [-1, 1] images)\n",
        "    normalized_spectrograms = [\n",
        "        (mel_spec_resized - np.min(mel_spec_resized)) / (np.max(mel_spec_resized) - np.min(mel_spec_resized))\n",
        "        for mel_spec_resized in spectrograms\n",
        "    ]\n",
        "\n",
        "    spectrograms_with_pred_labels = [\n",
        "        (normalized_spectrograms[i], f\"Segment: {i}, Class: '{label_id_to_label(predicted_classes[i])} ({predicted_classes[i]})'\")\n",
        "         for i in range(len(normalized_spectrograms))\n",
        "    ]\n",
        "\n",
        "    return (\n",
        "        f\"{label_id_to_label(prediction_1['class'])} ({prediction_1['class']})\", prediction_1[\"ratio\"],\n",
        "        f\"{label_id_to_label(prediction_2['class'])} ({prediction_2['class']})\", prediction_2[\"ratio\"],\n",
        "        f\"{label_id_to_label(prediction_3['class'])} ({prediction_3['class']})\", prediction_3[\"ratio\"],\n",
        "        spectrograms_with_pred_labels\n",
        "    )"
      ]
    },
    {
      "cell_type": "markdown",
      "id": "0673be9b",
      "metadata": {
        "id": "0673be9b"
      },
      "source": [
        "### Launch the app"
      ]
    },
    {
      "cell_type": "code",
      "execution_count": null,
      "id": "922f7626",
      "metadata": {
        "id": "922f7626"
      },
      "outputs": [],
      "source": [
        "def create_app(process):\n",
        "    \"\"\"Create Gradio bird sound classification app.\"\"\"\n",
        "    with gr.Blocks() as app:\n",
        "        title = gr.HTML(\"<h1>chirp.ai 🐦</h1>\")\n",
        "        subtitle = gr.HTML(\"<h3><i>Bird Sound Classification with a Deep Neural Network</i></h3>\")\n",
        "\n",
        "        with gr.Row():\n",
        "            with gr.Column(scale=2, min_width=300):\n",
        "                audio_file = gr.Audio(type=\"filepath\", label=\"Audio to classify\")\n",
        "\n",
        "                with gr.Accordion(\"Spectrogram view\", open=False):\n",
        "                    spectrogram_images = gr.Gallery(\n",
        "                        label=f\"Mel spectrograms of the audio ({SEGMENT_LENGTH} second segments)\",\n",
        "                        columns=5,\n",
        "                        object_fit=\"scale-down\"\n",
        "                    )\n",
        "\n",
        "            with gr.Column(scale=1, min_width=300):\n",
        "                with gr.Group():\n",
        "                    with gr.Column():\n",
        "                        with gr.Row():\n",
        "                            result = gr.Textbox(label=\"1st predicted class\", interactive=False)\n",
        "                            result_ratio = gr.Textbox(label=\"Ratio of all segments\", interactive=False)\n",
        "                        with gr.Row():\n",
        "                            result_2 = gr.Textbox(label=\"2nd predicted class\", interactive=False)\n",
        "                            result_ratio_2 = gr.Textbox(label=\"Ratio of all segments\", interactive=False)\n",
        "                        with gr.Row():\n",
        "                            result_3 = gr.Textbox(label=\"3rd predicted class\", interactive=False)\n",
        "                            result_ratio_3 = gr.Textbox(label=\"Ratio of all segments\", interactive=False)\n",
        "\n",
        "                submit_button = gr.Button(\"Predict\")\n",
        "                submit_button.click(\n",
        "                    process,\n",
        "                    inputs=audio_file,\n",
        "                    outputs=[\n",
        "                        result, result_ratio, result_2, result_ratio_2,\n",
        "                        result_3, result_ratio_3, spectrogram_images\n",
        "                    ]\n",
        "                )\n",
        "\n",
        "    return app\n",
        "\n",
        "if is_gradio_on:\n",
        "    app = create_app(predict_class)\n",
        "    app.queue().launch(debug=True)"
      ]
    }
  ],
  "metadata": {
    "accelerator": "GPU",
    "colab": {
      "gpuType": "T4",
      "machine_shape": "hm",
      "provenance": []
    },
    "kernelspec": {
      "display_name": ".venv",
      "language": "python",
      "name": "python3"
    },
    "language_info": {
      "codemirror_mode": {
        "name": "ipython",
        "version": 3
      },
      "file_extension": ".py",
      "mimetype": "text/x-python",
      "name": "python",
      "nbconvert_exporter": "python",
      "pygments_lexer": "ipython3",
      "version": "3.12.9"
    }
  },
  "nbformat": 4,
  "nbformat_minor": 5
}
