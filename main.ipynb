{
 "cells": [
  {
   "cell_type": "code",
   "execution_count": null,
   "id": "690cc07b",
   "metadata": {},
   "outputs": [],
   "source": [
    "import os\n",
    "RUN_PLATFORM = os.getenv(\"RUN_PLATFORM\") or \"LOCAL\"\n",
    "if RUN_PLATFORM == \"LOCAL\":\n",
    "\t# Make sure that when not in docker, packages are installed\n",
    "\t!pip install -r requirements.txt\n",
    "\tdata_dir = \"data\"\n",
    "elif RUN_PLATFORM == \"KAGGLE\":\n",
    "\tdata_dir = \"\"\n",
    "metadata_path = os.path.join(data_dir, \"train_metadata.csv\")\n",
    "audio_dir = os.path.join(data_dir, \"train_audio\")\n",
    "spectrogram_dir = os.path.join(data_dir, \"train_spectogram\")\n",
    "os.makedirs(spectrogram_dir, exist_ok=True)\n",
    "spectrogram_metadata_path = os.path.join(data_dir, \"train_spectrogram.csv\")"
   ]
  },
  {
   "cell_type": "code",
   "execution_count": 8,
   "id": "initial_id",
   "metadata": {
    "collapsed": true
   },
   "outputs": [
    {
     "name": "stderr",
     "output_type": "stream",
     "text": [
      "wandb: Using wandb-core as the SDK backend. Please refer to https://wandb.me/wandb-core for more information.\n",
      "wandb: Currently logged in as: asztrikx (asztrikx-budapesti-m-szaki-s-gazdas-gtudom-nyi-egyetem). Use `wandb login --relogin` to force relogin\n",
      "d:\\File\\Study\\BME\\Msc\\Haladó adatelemzés laboratórium\\nhf\\.venv\\Lib\\site-packages\\pydub\\utils.py:170: RuntimeWarning: Couldn't find ffmpeg or avconv - defaulting to ffmpeg, but may not work\n",
      "  warn(\"Couldn't find ffmpeg or avconv - defaulting to ffmpeg, but may not work\", RuntimeWarning)\n"
     ]
    }
   ],
   "source": [
    "import matplotlib.pyplot as plt\n",
    "%matplotlib inline\n",
    "\t# avoid rare bugs when image won't plot\n",
    "import numpy as np\n",
    "import pandas as pd\n",
    "import seaborn as sns\n",
    "import tensorflow as tf\n",
    "\n",
    "import pytorch_lightning as pl\n",
    "from pytorch_lightning import Trainer\n",
    "\n",
    "# loads .env file into runtime env vars\n",
    "import os.path\n",
    "if not os.path.isfile(\".env\"):\n",
    "\traise Exception(\".env must be created by copying .env.template and filling out the values\")\n",
    "from dotenv import load_dotenv\n",
    "load_dotenv()\n",
    "\n",
    "import wandb\n",
    "#wandb.login() # TODO remove comment when needed\n",
    "\n",
    "import torch\n",
    "from torch import nn\n",
    "from torch.nn import functional as F\n",
    "from torch.utils.data import random_split, DataLoader\n",
    "from torchvision import transforms\n",
    "\n",
    "# make it not fail in terminal execution\n",
    "from IPython.display import display\n",
    "from IPython.display import Audio\n",
    "\n",
    "from types import SimpleNamespace\n",
    "\t# make dict to class\n",
    "import pathlib\n",
    "import platform\n",
    "\n",
    "from sklearn.model_selection import train_test_split\n",
    "\n",
    "# Audio process\n",
    "import librosa\n",
    "import librosa.display\n",
    "import cv2"
   ]
  },
  {
   "cell_type": "markdown",
   "id": "1af87a0f",
   "metadata": {},
   "source": [
    "## Hyperparameter configuration, set random states"
   ]
  },
  {
   "cell_type": "code",
   "execution_count": 9,
   "id": "eb18f175",
   "metadata": {},
   "outputs": [],
   "source": [
    "# hyperparameters\n",
    "random_state = 42 # random state\n",
    "test_val_size = 0.2 # size of test and validation together to the whole dataset\n",
    "test_size = 0.5 # size of test to test and validation together\n",
    "num_workers = 2 # number of workers for data loading\n",
    "batch_size = 128\n",
    "\n",
    "eval_only = True\n",
    "is_score_on = True\n",
    "visualize_and_analyze = True\n",
    "\n",
    "# Faster exec. on newer GPUs\n",
    "torch.set_float32_matmul_precision('medium')\n",
    "\n",
    "# Fix random early on\n",
    "np.random.seed(random_state)\n",
    "torch.manual_seed(random_state)\n",
    "torch.cuda.manual_seed_all(random_state);"
   ]
  },
  {
   "cell_type": "markdown",
   "id": "97fa59aa",
   "metadata": {},
   "source": [
    "## Metadata csv"
   ]
  },
  {
   "cell_type": "code",
   "execution_count": null,
   "id": "aab67c3b",
   "metadata": {},
   "outputs": [],
   "source": [
    "metadata = pd.read_csv(metadata_path)"
   ]
  },
  {
   "cell_type": "markdown",
   "metadata": {},
   "source": [
    "## Transform data (Cached)"
   ]
  },
  {
   "cell_type": "code",
   "execution_count": null,
   "id": "052eea01",
   "metadata": {},
   "outputs": [],
   "source": [
    "def process_sound_file(file_path, save_dir, segment_length=3, sr=22050, n_mels=128, n_fft=2048, hop_length=512):\n",
    "\ty, sr = librosa.load(file_path, sr=sr)\n",
    "\n",
    "\tsegment_samples = sr * segment_length\n",
    "\tnum_segments = int(np.ceil(len(y) / segment_samples))\n",
    "\n",
    "\tspectrograms = []\n",
    "\tfor i in range(num_segments):\n",
    "\t\tstart = i * segment_samples\n",
    "\t\tend = start + segment_samples\n",
    "\t\tsegment = y[start:end]\n",
    "\n",
    "\t\t#TODO how should padding work\n",
    "\t\tif len(segment) < segment_samples:\n",
    "\t\t\tif num_segments == 1:\n",
    "\t\t\t\tsegment = np.pad(segment, (0, segment_samples - len(segment)), mode='wrap')\n",
    "\t\t\telse:\n",
    "\t\t\t\tmissing_length = segment_samples - len(segment)\n",
    "\t\t\t\tsegment = np.concatenate((segment, y[:missing_length]))\n",
    "\t\tmel_spec = librosa.feature.melspectrogram(y=segment, sr=sr, n_mels=n_mels, n_fft=n_fft, hop_length=hop_length)\n",
    "\t\tmel_spec_db = librosa.power_to_db(mel_spec, ref=np.max)\n",
    "\n",
    "\t\tmel_spec_resized = cv2.resize(mel_spec_db, (128, 128)) # TODO n_mels?\n",
    "\n",
    "\t\timage_filename = f\"{os.path.basename(file_path).replace('.ogg', '')}_seg{i}.png\"\n",
    "\t\timage_path = os.path.join(save_dir, image_filename)\n",
    "\t\tplt.imsave(image_path, mel_spec_resized, cmap='inferno')\n",
    "\n",
    "\t\tspectrograms.append(image_path)\n",
    "\n",
    "\treturn spectrograms\n",
    "\n",
    "if not os.path.isfile(spectrogram_metadata_path):\n",
    "\t# Use ProcessPoolExecutor if slow!\n",
    "\tdata = []\n",
    "\tfor species in os.listdir(audio_dir):\n",
    "\t\tspecies_dir = os.path.join(audio_dir, species)\n",
    "\t\tfor audio_file in os.listdir(species_dir):\n",
    "\t\t\taudio_path = os.path.join(species_dir, audio_file)\n",
    "\t\t\tout_path = os.path.join(spectrogram_dir, species)\n",
    "\t\t\tos.makedirs(out_path, exist_ok=True)\n",
    "\t\t\taudio_spectrograms = process_sound_file(audio_path, out_path)\n",
    "\n",
    "\t\t\t# Get other data from metadata: do not do this in Dataset for caching\n",
    "\t\t\trow = metadata.loc[metadata[\"filename\"] == f\"{species}/{audio_file}\"]\n",
    "\t\t\tlatitude = row[\"latitude\"].values[0]\n",
    "\t\t\tlongitude = row[\"longitude\"].values[0]\n",
    "\t\t\tauthor = row[\"author\"].values[0]\n",
    "\n",
    "\t\t\tlabel = species\n",
    "\n",
    "\t\t\tfor audio_spectrogram in audio_spectrograms:\n",
    "\t\t\t\tdata.append((audio_spectrogram, label, author, latitude, longitude))\n",
    "\t\t\tbreak # TODO avoid ssd murder until figured out\n",
    "\t\tbreak # TODO avoid ssd murder until figured out\n",
    "\tspectrogram_df = pd.DataFrame(data, columns=[\"spectrogram_path\", \"label\", \"author\", \"latitude\", \"longitude\"])\n",
    "\tspectrogram_df.to_csv(spectrogram_metadata_path)"
   ]
  },
  {
   "cell_type": "markdown",
   "id": "af5e2e3d",
   "metadata": {},
   "source": [
    "## Custom Dataset"
   ]
  },
  {
   "cell_type": "code",
   "execution_count": null,
   "id": "2a48fa54",
   "metadata": {},
   "outputs": [],
   "source": [
    "class BirdsDataset(Dataset):\n",
    "\t# override\n",
    "\tdef __init__(self, csv, transform = None, target_transform = None):\n",
    "\t\tself.df = pd.read_csv(csv)\n",
    "\t\tself.transform = transform\n",
    "\t\tself.target_transform = target_transform\n",
    "\n",
    "\t# override\n",
    "\tdef __len__(self):\n",
    "\t\treturn len(self.df)\n",
    "\n",
    "\t# override\n",
    "\tdef __getitem__(self, index):\n",
    "\t\timage_path = self.df.iloc[index][\"spectrogram_path\"]\n",
    "\t\taudio = read_image(image_path)\n",
    "\n",
    "\t\tlabel = {\n",
    "\t\t\t\"label\": self.df.iloc[index][\"label\"],\n",
    "\t\t\t\"latitude\": self.df.iloc[index][\"latitude\"],\n",
    "\t\t\t\"longitude\": self.df.iloc[index][\"longitude\"],\n",
    "\t\t\t\"author\": self.df.iloc[index][\"author\"],\n",
    "\t\t}\n",
    "\t\t\n",
    "\t\tif self.transform:\n",
    "\t\t\taudio = self.transform(audio)\n",
    "\t\tif self.target_transform:\n",
    "\t\t\tlabel = self.target_transform(label)\n",
    "\t\treturn audio, label"
   ]
  },
  {
   "cell_type": "markdown",
   "id": "12492eba",
   "metadata": {},
   "source": [
    "## Data module"
   ]
  },
  {
   "cell_type": "code",
   "execution_count": null,
   "id": "94538e9a",
   "metadata": {},
   "outputs": [],
   "source": [
    "class BirdsDataModule(pl.LightningDataModule):\n",
    "\tdef __init__(self, batch_size):\n",
    "\t\tsuper().__init__()\n",
    "\t\tself.batch_size = batch_size\n",
    "\t\tself.base_transform = transforms.Compose([\n",
    "\t\t\t# TODO\n",
    "\t\t])\n",
    "\t\tself.reverse_transform = transforms.Compose([\n",
    "\t\t\t# TODO\n",
    "\t\t])\n",
    "\n",
    "\t\tself.dataset_notransform = BirdsDataset(spectrogram_metadata_path, transform = None)\n",
    "\t\tself.dataset = BirdsDataset(spectrogram_metadata_path, transform = self.base_transform)\n",
    "\n",
    "\t# override\n",
    "\tdef setup(self, stage=None):\n",
    "\t\ttrain, test_val = train_test_split(self.dataset, test_size=test_val_size, random_state=random_state)\n",
    "\t\ttest, val = train_test_split(test_val, test_size=test_size, random_state=random_state)\n",
    "\t\tself.train_dataset = train\n",
    "\t\tself.val_dataset = val\n",
    "\t\tself.test_dataset = test\n",
    "\n",
    "\t# override\n",
    "\tdef train_dataloader(self):\n",
    "\t\treturn torch.utils.data.DataLoader(\n",
    "\t\t\tself.train_dataset,\n",
    "\t\t\tbatch_size=self.batch_size,\n",
    "\t\t\tnum_workers=num_workers,\n",
    "\t\t\tpin_memory=True,\n",
    "\t\t\tdrop_last=True,\n",
    "\t\t\tshuffle=False,\n",
    "\t\t\tpersistent_workers=True\n",
    "\t\t\t\t# avoid recreating after every fast epoch\n",
    "\t\t)\n",
    "\n",
    "\t# override\n",
    "\tdef val_dataloader(self):\n",
    "\t\treturn torch.utils.data.DataLoader(\n",
    "\t\t\tself.val_dataset,\n",
    "\t\t\tbatch_size=self.batch_size,\n",
    "\t\t\tnum_workers=num_workers,\n",
    "\t\t\tpin_memory=True,\n",
    "\t\t\tdrop_last=True,\n",
    "\t\t\tshuffle=False,\n",
    "\t\t\tpersistent_workers=True\n",
    "\t\t)\n",
    "\n",
    "\t# override\n",
    "\tdef test_dataloader(self):\n",
    "\t\treturn DataLoader(\n",
    "\t\t\tself.test_dataset,\n",
    "\t\t\tbatch_size=self.batch_size,\n",
    "\t\t\tnum_workers=num_workers,\n",
    "\t\t\tpin_memory=True,\n",
    "\t\t\tdrop_last=True,\n",
    "\t\t\tshuffle=False,\n",
    "\t\t\tpersistent_workers=True\n",
    "\t\t)\n",
    "\n",
    "birds_dm = BirdsDataModule(batch_size)\n",
    "birds_dm.prepare_data()\n",
    "birds_dm.setup()"
   ]
  },
  {
   "cell_type": "markdown",
   "id": "5e2a6d30",
   "metadata": {},
   "source": [
    "## Data visualization"
   ]
  },
  {
   "cell_type": "markdown",
   "id": "70f962df",
   "metadata": {},
   "source": [
    "## Data analysis"
   ]
  },
  {
   "cell_type": "markdown",
   "id": "951ecf12",
   "metadata": {},
   "source": [
    "## Metrics"
   ]
  },
  {
   "cell_type": "markdown",
   "id": "35b307ad",
   "metadata": {},
   "source": [
    "## Baseline"
   ]
  },
  {
   "cell_type": "markdown",
   "id": "f8ad364a",
   "metadata": {},
   "source": [
    "## Model"
   ]
  }
 ],
 "metadata": {
  "kernelspec": {
   "display_name": ".venv",
   "language": "python",
   "name": "python3"
  },
  "language_info": {
   "codemirror_mode": {
    "name": "ipython",
    "version": 3
   },
   "file_extension": ".py",
   "mimetype": "text/x-python",
   "name": "python",
   "nbconvert_exporter": "python",
   "pygments_lexer": "ipython3",
   "version": "3.12.9"
  }
 },
 "nbformat": 4,
 "nbformat_minor": 5
}
